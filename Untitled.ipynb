{
 "cells": [
  {
   "cell_type": "markdown",
   "metadata": {},
   "source": [
    "# Sistema Operativo\n",
    "\n",
    "Es una plataforma que facilita la interacción entre el usuario y los demás programas del ordenador y los dispositivos de hardware. Las funciones básicas del Sistema Operativo son administrar los recursos del ordenador, coordinar el hardware y organizar los archivos y directorios de su sistema."
   ]
  },
  {
   "cell_type": "markdown",
   "metadata": {},
   "source": [
    "## Tipos de Sistemas operativos\n",
    "MacOs\n",
    "\n",
    "Windows\n",
    "\n",
    "Unix"
   ]
  },
  {
   "cell_type": "markdown",
   "metadata": {},
   "source": [
    "## Diferencia entre proceso y hilo\n",
    "\n",
    "Los hilos son usados para pequeñas tareas mientras que los procesos son utilizados para tareas mas pesadas o que utilizen mas recursos.\n",
    "\n",
    "Los hilos corren en un espacio de memoria compartido mientras que un proceso corre en un espacio separado de memoria."
   ]
  },
  {
   "cell_type": "code",
   "execution_count": 1,
   "metadata": {},
   "outputs": [
    {
     "name": "stdout",
     "output_type": "stream",
     "text": [
      "total 104K\n",
      "drwxr-xr-x 13 vagrant vagrant 4.0K Oct 16 09:14 \u001b[0m\u001b[01;34m.\u001b[0m\n",
      "drwxr-xr-x  3 root    root    4.0K Feb 23  2018 \u001b[01;34m..\u001b[0m\n",
      "-rw-------  1 vagrant vagrant 1.9K Oct 16 14:27 .bash_history\n",
      "-rw-r--r--  1 vagrant vagrant  220 Feb 23  2018 .bash_logout\n",
      "-rw-r--r--  1 vagrant vagrant 3.7K Apr 22  2019 .bashrc\n",
      "drwx------  3 vagrant vagrant 4.0K Apr 22  2019 \u001b[01;34m.cache\u001b[0m\n",
      "drwx------  3 vagrant vagrant 4.0K Oct 16 08:54 \u001b[01;34m.config\u001b[0m\n",
      "drwxr-xr-x  2 vagrant vagrant 4.0K Oct 11 12:27 \u001b[01;34m.ipynb_checkpoints\u001b[0m\n",
      "drwxr-xr-x  5 vagrant vagrant 4.0K Oct  8 21:37 \u001b[01;34m.ipython\u001b[0m\n",
      "drwxr-xr-x  2 vagrant vagrant 4.0K Oct  9 08:23 \u001b[01;34m.jupyter\u001b[0m\n",
      "drwx------  6 vagrant vagrant 4.0K Oct  8 21:33 \u001b[01;34m.local\u001b[0m\n",
      "drwxr-xr-x  2 vagrant vagrant 4.0K Feb 23  2018 \u001b[01;34m.nano\u001b[0m\n",
      "-rw-r--r--  1 vagrant vagrant  675 Feb 23  2018 .profile\n",
      "drwxr-xr-x 13 vagrant vagrant 4.0K Apr 22  2019 \u001b[01;34m.pyenv\u001b[0m\n",
      "drwx------  2 vagrant vagrant 4.0K Oct  8 21:30 \u001b[01;34m.ssh\u001b[0m\n",
      "-rw-r--r--  1 vagrant vagrant  180 Feb 23  2018 .wget-hsts\n",
      "-rw-r--r--  1 vagrant vagrant  16K Oct 16 09:14 Untitled.ipynb\n",
      "-rw-r--r--  1 vagrant vagrant   72 Oct 11 12:27 Untitled1.ipynb\n",
      "-rw-r--r--  1 vagrant vagrant 4.8K Oct  8 21:52 copia-Untitled.ipynb\n",
      "drwxr-xr-x  2 vagrant vagrant 4.0K Oct  8 21:53 \u001b[01;34mcopiame\u001b[0m\n",
      "-rw-r--r--  1 vagrant vagrant 4.8K Oct  8 21:56 copianueva-Untitled2.ipynb\n",
      "-rw-r--r--  1 vagrant vagrant    0 Oct  9 08:54 hola\n",
      "drwxr-xr-x  1 vagrant vagrant 1.1K Oct 28 17:40 \u001b[01;34mproyectos\u001b[0m\n"
     ]
    }
   ],
   "source": [
    "ls -alh"
   ]
  },
  {
   "cell_type": "markdown",
   "metadata": {},
   "source": [
    "El parametro **-l** nos muestra en una lista los archivos y añade información del archivo o directorio mostrado (permisos, a quien pertenece y grupo al que pertenece y grupo al que pertenece, tamaño en disco, fecha de creación o modificación.\n",
    "\n",
    "NOTA: Podemos diferenciar entre un archivo y directorio por la inicial mostrada (**drwxr-xr-x** directorio **-rw-r--r--** archivo).\n",
    "\n",
    "El parametro **-h** nos muestra en un formato mas amigable *human readable* el tamaño de los archivos."
   ]
  },
  {
   "cell_type": "markdown",
   "metadata": {},
   "source": [
    "# Comandos basicos de Linux\n",
    "\n",
    "Aqui vamos a documentar algunos comandos basicos de linux.\n",
    "\n",
    "comando **ls**\n",
    "\n",
    "Nos muestra en pantalla un listado de archivos del directorio donde estemos posicionados o bien recibe un parametro de la ruta a listar."
   ]
  },
  {
   "cell_type": "code",
   "execution_count": 3,
   "metadata": {},
   "outputs": [
    {
     "name": "stdout",
     "output_type": "stream",
     "text": [
      "Untitled.ipynb  \u001b[0m\u001b[01;34mproyectos\u001b[0m\n"
     ]
    }
   ],
   "source": [
    "ls"
   ]
  },
  {
   "cell_type": "code",
   "execution_count": 4,
   "metadata": {},
   "outputs": [
    {
     "name": "stdout",
     "output_type": "stream",
     "text": [
      "\u001b[0m\u001b[01;34m.\u001b[0m              .bashrc             \u001b[01;34m.local\u001b[0m    \u001b[01;34m.ssh\u001b[0m\n",
      "\u001b[01;34m..\u001b[0m             \u001b[01;34m.cache\u001b[0m              \u001b[01;34m.nano\u001b[0m     .wget-hsts\n",
      ".bash_history  \u001b[01;34m.ipynb_checkpoints\u001b[0m  .profile  Untitled.ipynb\n",
      ".bash_logout   \u001b[01;34m.ipython\u001b[0m            \u001b[01;34m.pyenv\u001b[0m    \u001b[01;34mproyectos\u001b[0m\n"
     ]
    }
   ],
   "source": [
    "ls -a /home/vagrant"
   ]
  },
  {
   "cell_type": "markdown",
   "metadata": {},
   "source": [
    "El parametro **-a** muestra todos los archivos (ocultos y no ocultos) este parametro se puede mezclar con otros parametros."
   ]
  },
  {
   "cell_type": "markdown",
   "metadata": {},
   "source": [
    "# Copia archivos y directorios\n",
    "\n",
    "Para copiar archivos y directorios en linux podemos usar el comando **cp**.\n",
    "\n",
    "El primer parametro es el nombre de archivo o directorio de origen, y el segundo parametro es el archivo o ruta donde se creara la copia de este.\n"
   ]
  },
  {
   "cell_type": "code",
   "execution_count": 11,
   "metadata": {},
   "outputs": [
    {
     "name": "stdout",
     "output_type": "stream",
     "text": [
      "Untitled.ipynb  copia-Untitled.ipynb  \u001b[0m\u001b[01;34mcopiamb\u001b[0m  \u001b[01;34mcopiame\u001b[0m  \u001b[01;34mproyectos\u001b[0m\n"
     ]
    }
   ],
   "source": [
    "ls"
   ]
  },
  {
   "cell_type": "code",
   "execution_count": 6,
   "metadata": {},
   "outputs": [],
   "source": [
    "cp Untitled.ipynb copia-Untitled.ipynb"
   ]
  },
  {
   "cell_type": "code",
   "execution_count": 10,
   "metadata": {},
   "outputs": [],
   "source": [
    "mkdir copiame"
   ]
  },
  {
   "cell_type": "code",
   "execution_count": 12,
   "metadata": {},
   "outputs": [],
   "source": [
    "cp Untitled.ipynb copiame/copia-Untitled2.ipynb"
   ]
  },
  {
   "cell_type": "code",
   "execution_count": 13,
   "metadata": {},
   "outputs": [
    {
     "name": "stdout",
     "output_type": "stream",
     "text": [
      "copia-Untitled2.ipynb\n"
     ]
    }
   ],
   "source": [
    "ls copiame"
   ]
  },
  {
   "cell_type": "markdown",
   "metadata": {},
   "source": [
    "# PWD\n",
    "\n",
    "El comando **pwd** nos imprime en consola el directorio donde estamos posicionados."
   ]
  },
  {
   "cell_type": "code",
   "execution_count": 14,
   "metadata": {},
   "outputs": [
    {
     "name": "stdout",
     "output_type": "stream",
     "text": [
      "/home/vagrant\n"
     ]
    }
   ],
   "source": [
    "pwd"
   ]
  },
  {
   "cell_type": "code",
   "execution_count": 16,
   "metadata": {},
   "outputs": [],
   "source": [
    "cp copiame/copia-Untitled2.ipynb ./copianueva-Untitled2.ipynb"
   ]
  },
  {
   "cell_type": "markdown",
   "metadata": {},
   "source": [
    "# Comando PS\n",
    "\n",
    "Este comando nos permite observar los procesos, lee directamente la información del sistema de archivos /proc."
   ]
  },
  {
   "cell_type": "code",
   "execution_count": 17,
   "metadata": {},
   "outputs": [
    {
     "name": "stdout",
     "output_type": "stream",
     "text": [
      "UID        PID  PPID  C STIME TTY          TIME CMD\n",
      "root         1     0  0 21:30 ?        00:00:00 /sbin/init\n",
      "root         2     0  0 21:30 ?        00:00:00 [kthreadd]\n",
      "root         3     2  0 21:30 ?        00:00:00 [ksoftirqd/0]\n",
      "root         5     2  0 21:30 ?        00:00:00 [kworker/0:0H]\n",
      "root         7     2  0 21:30 ?        00:00:00 [rcu_sched]\n",
      "root         8     2  0 21:30 ?        00:00:00 [rcu_bh]\n",
      "root         9     2  0 21:30 ?        00:00:00 [migration/0]\n",
      "root        10     2  0 21:30 ?        00:00:00 [lru-add-drain]\n",
      "root        11     2  0 21:30 ?        00:00:00 [watchdog/0]\n",
      "root        12     2  0 21:30 ?        00:00:00 [cpuhp/0]\n",
      "root        13     2  0 21:30 ?        00:00:00 [kdevtmpfs]\n",
      "root        14     2  0 21:30 ?        00:00:00 [netns]\n",
      "root        15     2  0 21:30 ?        00:00:00 [khungtaskd]\n",
      "root        16     2  0 21:30 ?        00:00:00 [oom_reaper]\n",
      "root        17     2  0 21:30 ?        00:00:00 [writeback]\n",
      "root        18     2  0 21:30 ?        00:00:00 [kcompactd0]\n",
      "root        19     2  0 21:30 ?        00:00:00 [ksmd]\n",
      "root        20     2  0 21:30 ?        00:00:01 [kworker/0:1]\n",
      "root        21     2  0 21:30 ?        00:00:00 [khugepaged]\n",
      "root        22     2  0 21:30 ?        00:00:00 [crypto]\n",
      "root        23     2  0 21:30 ?        00:00:00 [kintegrityd]\n",
      "root        24     2  0 21:30 ?        00:00:00 [bioset]\n",
      "root        25     2  0 21:30 ?        00:00:00 [kblockd]\n",
      "root        26     2  0 21:30 ?        00:00:00 [devfreq_wq]\n",
      "root        27     2  0 21:30 ?        00:00:00 [watchdogd]\n",
      "root        28     2  0 21:30 ?        00:00:00 [kswapd0]\n",
      "root        29     2  0 21:30 ?        00:00:00 [vmstat]\n",
      "root        41     2  0 21:30 ?        00:00:00 [kthrotld]\n",
      "root        42     2  0 21:30 ?        00:00:00 [ipv6_addrconf]\n",
      "root        75     2  0 21:30 ?        00:00:00 [ata_sff]\n",
      "root        83     2  0 21:30 ?        00:00:00 [kworker/u2:1]\n",
      "root       103     2  0 21:30 ?        00:00:00 [scsi_eh_0]\n",
      "root       104     2  0 21:30 ?        00:00:00 [scsi_tmf_0]\n",
      "root       105     2  0 21:30 ?        00:00:00 [scsi_eh_1]\n",
      "root       106     2  0 21:30 ?        00:00:00 [scsi_tmf_1]\n",
      "root       107     2  0 21:30 ?        00:00:00 [scsi_eh_2]\n",
      "root       108     2  0 21:30 ?        00:00:00 [kworker/u2:2]\n",
      "root       109     2  0 21:30 ?        00:00:00 [scsi_tmf_2]\n",
      "root       111     2  0 21:30 ?        00:00:00 [bioset]\n",
      "root       112     2  0 21:30 ?        00:00:00 [bioset]\n",
      "root       114     2  0 21:30 ?        00:00:00 [kworker/0:1H]\n",
      "root       142     2  0 21:30 ?        00:00:00 [kworker/u3:0]\n",
      "root       150     2  0 21:30 ?        00:00:00 [jbd2/sda1-8]\n",
      "root       151     2  0 21:30 ?        00:00:00 [ext4-rsv-conver]\n",
      "root       176     1  0 21:30 ?        00:00:00 /lib/systemd/systemd-journald\n",
      "root       182     2  0 21:30 ?        00:00:00 [kauditd]\n",
      "root       189     1  0 21:30 ?        00:00:00 /lib/systemd/systemd-udevd\n",
      "root       233     2  0 21:30 ?        00:00:00 [iprt-VBoxWQueue]\n",
      "root       234     2  0 21:30 ?        00:00:00 [ttm_swap]\n",
      "root       370     1  0 21:30 ?        00:00:00 /usr/sbin/cron -f\n",
      "root       371     1  0 21:30 ?        00:00:00 /usr/sbin/rsyslogd -n\n",
      "root       373     1  0 21:30 ?        00:00:00 /lib/systemd/systemd-logind\n",
      "message+   375     1  0 21:30 ?        00:00:00 /usr/bin/dbus-daemon --system --\n",
      "root       405     1  0 21:30 tty1     00:00:00 /sbin/agetty --noclear tty1 linu\n",
      "root       413     1  0 21:30 ?        00:00:00 /usr/sbin/sshd -D\n",
      "Debian-+   660     1  0 21:30 ?        00:00:00 /usr/sbin/exim4 -bd -q30m\n",
      "root       723     1  0 21:30 ?        00:00:00 /usr/sbin/VBoxService --pidfile \n",
      "root       743     1  0 21:30 ?        00:00:00 /sbin/dhclient -4 -v -pf /run/dh\n",
      "root      1188   413  0 21:30 ?        00:00:00 sshd: vagrant [priv]\n",
      "vagrant   1190     1  0 21:30 ?        00:00:00 /lib/systemd/systemd --user\n",
      "vagrant   1191  1190  0 21:30 ?        00:00:00 (sd-pam)\n",
      "vagrant   1197  1188  0 21:30 ?        00:00:00 sshd: vagrant@pts/0\n",
      "vagrant   1198  1197  0 21:30 pts/0    00:00:00 -bash\n",
      "vagrant   2090  1198  0 21:37 pts/0    00:00:02 /usr/bin/python /home/vagrant/.l\n",
      "vagrant   2111  2090  0 21:38 ?        00:00:00 /usr/bin/python -m bash_kernel -\n",
      "vagrant   2121  2111  0 21:38 pts/1    00:00:00 /bin/bash --rcfile /home/vagrant\n",
      "root      2216     2  0 21:51 ?        00:00:00 [kworker/0:2]\n",
      "root      2226     2  0 21:56 ?        00:00:00 [kworker/0:0]\n",
      "vagrant   2229  2121  0 21:57 pts/1    00:00:00 ps -ef\n"
     ]
    }
   ],
   "source": [
    "ps -ef"
   ]
  },
  {
   "cell_type": "markdown",
   "metadata": {},
   "source": [
    "# Estructura de Directorios Unix"
   ]
  },
  {
   "cell_type": "markdown",
   "metadata": {},
   "source": [
    "Directorio        Descripción\n",
    "------------------------------------------------------------------\n",
    "/bin/\t\tComandos/programas binarios esenciales (cp, mv, ls, rm, etc.).\n",
    "/boot/\t\tFicheros utilizados durante el arranque del sistema (núcleo y discos RAM)\n",
    "/dev/\t\tDispositivos esenciales, discos duros, terminales, sonido,\n",
    "\t\tvideo, lectores dvd/cd, etc\n",
    "\n",
    "/etc/\t\tFicheros de configuración utilizados en todo el sistema y que\n",
    "\t\tson específicos del ordenador\n",
    "\n",
    "/etc/opt/\tFicheros de configuración utilizados por programas alojados dentro\n",
    "\t\tde /opt/\n",
    "\n",
    "/etc/X11/\tFicheros de configuración para el sistema X Window (Opcional)\n",
    "/etc/sgml/\tFicheros de configuración para SGML (Opcional)\n",
    "/etc/xml/\tFicheros de configuración para XML (Opcional)\n",
    "\n",
    "/home/\t\tDirectorios de inicios de los usuarios (Opcional)\n",
    "/lib/\t\tBibliotecas compartidas esenciales para los binarios de /bin/, /sbin/ y\n",
    "\t\tel núcleo del sistema.\n",
    "\n",
    "/mnt/\t\tSistemas de ficheros montados temporalmente.\n",
    "/media/\t\tPuntos de montaje para dispositivos de medios como unidades lectoras\n",
    "\t\tde discos compactos.\n",
    "\n",
    "/opt/\t\tPaquetes de aplicaciones estáticas.\n",
    "/proc/\t\tSistema de ficheros virtual que documenta sucesos y estados del\n",
    "\t\tnúcleo. Contiene principalmente ficheros de texto.\n",
    "\n",
    "/root/\t\tDirectorio de inicio del usuario root (super-usuario) (Opcional)\n",
    "/sbin/\t\tComandos/programas binarios de administración de sistema.\n",
    "/tmp/\t\tFicheros temporales\n",
    "/srv/\t\tDatos específicos de sitio servidos por el sistema.\n",
    "\n",
    "\n",
    "/usr/\t\tJerarquía secundaria para datos compartidos de solo lectura (Unix system\n",
    "\t\tresources). Este directorio puede ser compartido por\n",
    "\t\tmúltiples ordenadores y no debe contener datos específicos del\n",
    "\t\tordenador que los comparte.\n",
    "\n",
    "/usr/bin/\tComandos/programas binarios.\n",
    "/usr/include/\tFicheros de inclusión estándar (cabeceras de cabecera utilizados\n",
    "\t\tpara desarrollo).\n",
    "\n",
    "/usr/lib/\tBibliotecas compartidas.\n",
    "/usr/share/\tDatos compartidos independientes de la arquitectura del\n",
    "\t\tsistema. Imágenes, ficheros de texto, etc.\n",
    "\n",
    "/usr/src/\tCódigos fuente (Opcional)\n",
    "/usr/X11R6/\tSistema X Window, versión 11, lanzamiento 6 (Opcional)\n",
    "/usr/local/\tJerarquía terciaria para datos compartidos de solo lectura\n",
    "\t\tespecíficos del ordenador que los comparte.\n",
    "\n",
    "/var/\t\tFicheros variables, como son logs, bases de datos, directorio raíz\n",
    "\t\tde servidores HTTP y FTP, colas de correo, ficheros temporales, etc.\n",
    "\n",
    "/var/cache/\tCache da datos de aplicaciones.\n",
    "/var/crash/\tDepósito de información referente a caidas del sistema (Opcional)\n",
    "\n",
    "/var/games/\tDatos variables de aplicaciones para juegos (Opcional)\n",
    "/var/lib/\tInformación de estado variable. Algunos servidores como MySQL y\n",
    "\t\tPostgreSQL almacenan sus bases de datos en directorios subordinados de éste.\n",
    "\n",
    "/var/lock/\tFicheros de bloqueo.\n",
    "/var/log/\tFicheros y directorios de registro del sistemas (logs).\n",
    "/var/mail/\tBuzones de correo de usuarios (Opcional)\n",
    "/var/opt/\tDatos variables de /opt/.\n",
    "/var/spool/\tColas de datos de aplicaciones.\n",
    "/var/tmp/\tFicheros temporales preservados entre reinicios.\n"
   ]
  }
 ],
 "metadata": {
  "kernelspec": {
   "display_name": "Bash",
   "language": "bash",
   "name": "bash"
  },
  "language_info": {
   "codemirror_mode": "shell",
   "file_extension": ".sh",
   "mimetype": "text/x-sh",
   "name": "bash"
  }
 },
 "nbformat": 4,
 "nbformat_minor": 2
}
