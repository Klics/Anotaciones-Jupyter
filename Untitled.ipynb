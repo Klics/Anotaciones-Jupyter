{
 "cells": [
  {
   "cell_type": "markdown",
   "metadata": {},
   "source": [
    "# Sistema Operativo\n",
    "\n",
    "Es una plataforma que facilita la interacción entre el usuario y los demás programas del ordenador y los dispositivos de hardware. Las funciones básicas del Sistema Operativo son administrar los recursos del ordenador, coordinar el hardware y organizar los archivos y directorios de su sistema."
   ]
  },
  {
   "cell_type": "markdown",
   "metadata": {},
   "source": [
    "## Tipos de Sistemas operativos\n",
    "MacOs\n",
    "\n",
    "Windows\n",
    "\n",
    "Unix"
   ]
  },
  {
   "cell_type": "markdown",
   "metadata": {},
   "source": [
    "## Diferencia entre proceso y hilo\n",
    "\n",
    "Los hilos son usados para pequeñas tareas mientras que los procesos son utilizados para tareas mas pesadas o que utilizen mas recursos.\n",
    "\n",
    "Los hilos corren en un espacio de memoria compartido mientras que un proceso corre en un espacio separado de memoria."
   ]
  },
  {
   "cell_type": "code",
   "execution_count": 1,
   "metadata": {},
   "outputs": [
    {
     "name": "stdout",
     "output_type": "stream",
     "text": [
      "total 104K\n",
      "drwxr-xr-x 13 vagrant vagrant 4.0K Oct 16 09:14 \u001b[0m\u001b[01;34m.\u001b[0m\n",
      "drwxr-xr-x  3 root    root    4.0K Feb 23  2018 \u001b[01;34m..\u001b[0m\n",
      "-rw-------  1 vagrant vagrant 1.9K Oct 16 14:27 .bash_history\n",
      "-rw-r--r--  1 vagrant vagrant  220 Feb 23  2018 .bash_logout\n",
      "-rw-r--r--  1 vagrant vagrant 3.7K Apr 22  2019 .bashrc\n",
      "drwx------  3 vagrant vagrant 4.0K Apr 22  2019 \u001b[01;34m.cache\u001b[0m\n",
      "drwx------  3 vagrant vagrant 4.0K Oct 16 08:54 \u001b[01;34m.config\u001b[0m\n",
      "drwxr-xr-x  2 vagrant vagrant 4.0K Oct 11 12:27 \u001b[01;34m.ipynb_checkpoints\u001b[0m\n",
      "drwxr-xr-x  5 vagrant vagrant 4.0K Oct  8 21:37 \u001b[01;34m.ipython\u001b[0m\n",
      "drwxr-xr-x  2 vagrant vagrant 4.0K Oct  9 08:23 \u001b[01;34m.jupyter\u001b[0m\n",
      "drwx------  6 vagrant vagrant 4.0K Oct  8 21:33 \u001b[01;34m.local\u001b[0m\n",
      "drwxr-xr-x  2 vagrant vagrant 4.0K Feb 23  2018 \u001b[01;34m.nano\u001b[0m\n",
      "-rw-r--r--  1 vagrant vagrant  675 Feb 23  2018 .profile\n",
      "drwxr-xr-x 13 vagrant vagrant 4.0K Apr 22  2019 \u001b[01;34m.pyenv\u001b[0m\n",
      "drwx------  2 vagrant vagrant 4.0K Oct  8 21:30 \u001b[01;34m.ssh\u001b[0m\n",
      "-rw-r--r--  1 vagrant vagrant  180 Feb 23  2018 .wget-hsts\n",
      "-rw-r--r--  1 vagrant vagrant  16K Oct 16 09:14 Untitled.ipynb\n",
      "-rw-r--r--  1 vagrant vagrant   72 Oct 11 12:27 Untitled1.ipynb\n",
      "-rw-r--r--  1 vagrant vagrant 4.8K Oct  8 21:52 copia-Untitled.ipynb\n",
      "drwxr-xr-x  2 vagrant vagrant 4.0K Oct  8 21:53 \u001b[01;34mcopiame\u001b[0m\n",
      "-rw-r--r--  1 vagrant vagrant 4.8K Oct  8 21:56 copianueva-Untitled2.ipynb\n",
      "-rw-r--r--  1 vagrant vagrant    0 Oct  9 08:54 hola\n",
      "drwxr-xr-x  1 vagrant vagrant 1.1K Oct 28 17:40 \u001b[01;34mproyectos\u001b[0m\n"
     ]
    }
   ],
   "source": [
    "ls -alh"
   ]
  },
  {
   "cell_type": "markdown",
   "metadata": {},
   "source": [
    "El parametro **-l** nos muestra en una lista los archivos y añade información del archivo o directorio mostrado (permisos, a quien pertenece y grupo al que pertenece y grupo al que pertenece, tamaño en disco, fecha de creación o modificación.\n",
    "\n",
    "NOTA: Podemos diferenciar entre un archivo y directorio por la inicial mostrada (**drwxr-xr-x** directorio **-rw-r--r--** archivo).\n",
    "\n",
    "El parametro **-h** nos muestra en un formato mas amigable *human readable* el tamaño de los archivos."
   ]
  },
  {
   "cell_type": "markdown",
   "metadata": {},
   "source": [
    "# Comandos basicos de Linux\n",
    "\n",
    "Aqui vamos a documentar algunos comandos basicos de linux.\n",
    "\n",
    "comando **ls**\n",
    "\n",
    "Nos muestra en pantalla un listado de archivos del directorio donde estemos posicionados o bien recibe un parametro de la ruta a listar."
   ]
  },
  {
   "cell_type": "code",
   "execution_count": 3,
   "metadata": {},
   "outputs": [
    {
     "name": "stdout",
     "output_type": "stream",
     "text": [
      "Untitled.ipynb  \u001b[0m\u001b[01;34mproyectos\u001b[0m\n"
     ]
    }
   ],
   "source": [
    "ls"
   ]
  },
  {
   "cell_type": "code",
   "execution_count": 4,
   "metadata": {},
   "outputs": [
    {
     "name": "stdout",
     "output_type": "stream",
     "text": [
      "\u001b[0m\u001b[01;34m.\u001b[0m              .bashrc             \u001b[01;34m.local\u001b[0m    \u001b[01;34m.ssh\u001b[0m\n",
      "\u001b[01;34m..\u001b[0m             \u001b[01;34m.cache\u001b[0m              \u001b[01;34m.nano\u001b[0m     .wget-hsts\n",
      ".bash_history  \u001b[01;34m.ipynb_checkpoints\u001b[0m  .profile  Untitled.ipynb\n",
      ".bash_logout   \u001b[01;34m.ipython\u001b[0m            \u001b[01;34m.pyenv\u001b[0m    \u001b[01;34mproyectos\u001b[0m\n"
     ]
    }
   ],
   "source": [
    "ls -a /home/vagrant"
   ]
  },
  {
   "cell_type": "markdown",
   "metadata": {},
   "source": [
    "El parametro **-a** muestra todos los archivos (ocultos y no ocultos) este parametro se puede mezclar con otros parametros."
   ]
  },
  {
   "cell_type": "markdown",
   "metadata": {},
   "source": [
    "# Copia archivos y directorios\n",
    "\n",
    "Para copiar archivos y directorios en linux podemos usar el comando **cp**.\n",
    "\n",
    "El primer parametro es el nombre de archivo o directorio de origen, y el segundo parametro es el archivo o ruta donde se creara la copia de este.\n"
   ]
  },
  {
   "cell_type": "code",
   "execution_count": 11,
   "metadata": {},
   "outputs": [
    {
     "name": "stdout",
     "output_type": "stream",
     "text": [
      "Untitled.ipynb  copia-Untitled.ipynb  \u001b[0m\u001b[01;34mcopiamb\u001b[0m  \u001b[01;34mcopiame\u001b[0m  \u001b[01;34mproyectos\u001b[0m\n"
     ]
    }
   ],
   "source": [
    "ls"
   ]
  },
  {
   "cell_type": "code",
   "execution_count": 6,
   "metadata": {},
   "outputs": [],
   "source": [
    "cp Untitled.ipynb copia-Untitled.ipynb"
   ]
  },
  {
   "cell_type": "code",
   "execution_count": 10,
   "metadata": {},
   "outputs": [],
   "source": [
    "mkdir copiame"
   ]
  },
  {
   "cell_type": "code",
   "execution_count": 12,
   "metadata": {},
   "outputs": [],
   "source": [
    "cp Untitled.ipynb copiame/copia-Untitled2.ipynb"
   ]
  },
  {
   "cell_type": "code",
   "execution_count": 13,
   "metadata": {},
   "outputs": [
    {
     "name": "stdout",
     "output_type": "stream",
     "text": [
      "copia-Untitled2.ipynb\n"
     ]
    }
   ],
   "source": [
    "ls copiame"
   ]
  },
  {
   "cell_type": "markdown",
   "metadata": {},
   "source": [
    "# PWD\n",
    "\n",
    "El comando **pwd** nos imprime en consola el directorio donde estamos posicionados."
   ]
  },
  {
   "cell_type": "code",
   "execution_count": 14,
   "metadata": {},
   "outputs": [
    {
     "name": "stdout",
     "output_type": "stream",
     "text": [
      "/home/vagrant\n"
     ]
    }
   ],
   "source": [
    "pwd"
   ]
  },
  {
   "cell_type": "code",
   "execution_count": 16,
   "metadata": {},
   "outputs": [],
   "source": [
    "cp copiame/copia-Untitled2.ipynb ./copianueva-Untitled2.ipynb"
   ]
  },
  {
   "cell_type": "markdown",
   "metadata": {},
   "source": [
    "# Comando Tree\n",
    "\n",
    "Permite imprimir en consola la estructura de directorios y sus archivos, los muestra en diagrama de niveles y subniveles"
   ]
  },
  {
   "cell_type": "code",
   "execution_count": null,
   "metadata": {},
   "outputs": [],
   "source": [
    "tree /home"
   ]
  },
  {
   "cell_type": "markdown",
   "metadata": {},
   "source": [
    "# Comando Top\n",
    "El comando top nos da información acerca del uso de la cpu, de la memoria, de los procesos en ejecución, etc en tiempo real.\n",
    "\n",
    "Nos puede ayudar a monitorizar nuestro servidor dedicado si notamos que algo no funciona bien. En ocasiones podemos notar alguna incidencia y gracias al comando top, podemos encaminarnos hacia la causa del problema."
   ]
  },
  {
   "cell_type": "code",
   "execution_count": null,
   "metadata": {},
   "outputs": [
    {
     "name": "stdout",
     "output_type": "stream",
     "text": [
      "\u001b[?1h\u001b=\u001b[?25l\u001b[H\u001b[2J\u001b(B\u001b[mtop - 11:25:04 up  1:43,  1 user,  load average: 0.00, 0.00, 0.00\u001b(B\u001b[m\u001b[39;49m\u001b(B\u001b[m\u001b[39;49m\u001b[K\n",
      "Tasks:\u001b(B\u001b[m\u001b[39;49m\u001b[1m  70 \u001b(B\u001b[m\u001b[39;49mtotal,\u001b(B\u001b[m\u001b[39;49m\u001b[1m   1 \u001b(B\u001b[m\u001b[39;49mrunning,\u001b(B\u001b[m\u001b[39;49m\u001b[1m  69 \u001b(B\u001b[m\u001b[39;49msleeping,\u001b(B\u001b[m\u001b[39;49m\u001b[1m   0 \u001b(B\u001b[m\u001b[39;49mstopped,\u001b(B\u001b[m\u001b[39;49m\u001b[1m   0 \u001b(B\u001b[m\u001b[39;49mzombie\u001b(B\u001b[m\u001b[39;49m\u001b(B\u001b[m\u001b[39;49m\u001b[K\n",
      "%Cpu(s):\u001b(B\u001b[m\u001b[39;49m\u001b[1m  0.1 \u001b(B\u001b[m\u001b[39;49mus,\u001b(B\u001b[m\u001b[39;49m\u001b[1m  0.1 \u001b(B\u001b[m\u001b[39;49msy,\u001b(B\u001b[m\u001b[39;49m\u001b[1m  0.0 \u001b(B\u001b[m\u001b[39;49mni,\u001b(B\u001b[m\u001b[39;49m\u001b[1m 99.8 \u001b(B\u001b[m\u001b[39;49mid,\u001b(B\u001b[m\u001b[39;49m\u001b[1m  0.0 \u001b(B\u001b[m\u001b[39;49mwa,\u001b(B\u001b[m\u001b[39;49m\u001b[1m  0.0 \u001b(B\u001b[m\u001b[39;49mhi,\u001b(B\u001b[m\u001b[39;49m\u001b[1m  0.0 \u001b(B\u001b[m\u001b[39;49msi,\u001b(B\u001b[m\u001b[39;49m\u001b[1m  0.0 \u001b(B\u001b[m\u001b[39;49mst\u001b(B\u001b[m\u001b[39;49m\u001b(B\u001b[m\u001b[39;49m\u001b[K\n",
      "KiB Mem :\u001b(B\u001b[m\u001b[39;49m\u001b[1m  1020360 \u001b(B\u001b[m\u001b[39;49mtotal,\u001b(B\u001b[m\u001b[39;49m\u001b[1m   587640 \u001b(B\u001b[m\u001b[39;49mfree,\u001b(B\u001b[m\u001b[39;49m\u001b[1m   111720 \u001b(B\u001b[m\u001b[39;49mused,\u001b(B\u001b[m\u001b[39;49m\u001b[1m   321000 \u001b(B\u001b[m\u001b[39;49mbuff/cache\u001b(B\u001b[m\u001b[39;49m\u001b(B\u001b[m\u001b[39;49m\u001b[K\n",
      "KiB Swap:\u001b(B\u001b[m\u001b[39;49m\u001b[1m  1046524 \u001b(B\u001b[m\u001b[39;49mtotal,\u001b(B\u001b[m\u001b[39;49m\u001b[1m  1046524 \u001b(B\u001b[m\u001b[39;49mfree,\u001b(B\u001b[m\u001b[39;49m\u001b[1m        0 \u001b(B\u001b[m\u001b[39;49mused.\u001b(B\u001b[m\u001b[39;49m\u001b[1m   765356 \u001b(B\u001b[m\u001b[39;49mavail Mem \u001b(B\u001b[m\u001b[39;49m\u001b(B\u001b[m\u001b[39;49m\u001b[K\n",
      "\u001b[K\n",
      "\u001b[7m  PID USER      PR  NI    VIRT    RES    SHR S %CPU %MEM     TIME+ COMMAND      \u001b(B\u001b[m\u001b[39;49m\u001b[K\n",
      "\u001b(B\u001b[m    1 root      20   0   56956   6624   5224 S  0.0  0.6   0:00.49 systemd      \u001b(B\u001b[m\u001b[39;49m\u001b[K\n",
      "\u001b(B\u001b[m    2 root      20   0       0      0      0 S  0.0  0.0   0:00.00 kthreadd     \u001b(B\u001b[m\u001b[39;49m\u001b[K\n",
      "\u001b(B\u001b[m    3 root      20   0       0      0      0 S  0.0  0.0   0:00.03 ksoftirqd/0  \u001b(B\u001b[m\u001b[39;49m\u001b[K\n",
      "\u001b(B\u001b[m    4 root      20   0       0      0      0 S  0.0  0.0   0:03.54 kworker/0:0  \u001b(B\u001b[m\u001b[39;49m\u001b[K\n",
      "\u001b(B\u001b[m    5 root       0 -20       0      0      0 S  0.0  0.0   0:00.00 kworker/0:0H \u001b(B\u001b[m\u001b[39;49m\u001b[K\n",
      "\u001b(B\u001b[m    7 root      20   0       0      0      0 S  0.0  0.0   0:00.08 rcu_sched    \u001b(B\u001b[m\u001b[39;49m\u001b[K\n",
      "\u001b(B\u001b[m    8 root      20   0       0      0      0 S  0.0  0.0   0:00.00 rcu_bh       \u001b(B\u001b[m\u001b[39;49m\u001b[K\n",
      "\u001b(B\u001b[m    9 root      rt   0       0      0      0 S  0.0  0.0   0:00.00 migration/0  \u001b(B\u001b[m\u001b[39;49m\u001b[K\n",
      "\u001b(B\u001b[m   10 root       0 -20       0      0      0 S  0.0  0.0   0:00.00 lru-add-dra+ \u001b(B\u001b[m\u001b[39;49m\u001b[K\n",
      "\u001b(B\u001b[m   11 root      rt   0       0      0      0 S  0.0  0.0   0:00.02 watchdog/0   \u001b(B\u001b[m\u001b[39;49m\u001b[K\n",
      "\u001b(B\u001b[m   12 root      20   0       0      0      0 S  0.0  0.0   0:00.00 cpuhp/0      \u001b(B\u001b[m\u001b[39;49m\u001b[K\n",
      "\u001b(B\u001b[m   13 root      20   0       0      0      0 S  0.0  0.0   0:00.00 kdevtmpfs    \u001b(B\u001b[m\u001b[39;49m\u001b[K\n",
      "\u001b(B\u001b[m   14 root       0 -20       0      0      0 S  0.0  0.0   0:00.00 netns        \u001b(B\u001b[m\u001b[39;49m\u001b[K\n",
      "\u001b(B\u001b[m   15 root      20   0       0      0      0 S  0.0  0.0   0:00.00 khungtaskd   \u001b(B\u001b[m\u001b[39;49m\u001b[K\n",
      "\u001b(B\u001b[m   16 root      20   0       0      0      0 S  0.0  0.0   0:00.00 oom_reaper   \u001b(B\u001b[m\u001b[39;49m\u001b[K\n",
      "\u001b(B\u001b[m   17 root       0 -20       0      0      0 S  0.0  0.0   0:00.00 writeback    \u001b(B\u001b[m\u001b[39;49m\u001b[K\n",
      "\u001b(B\u001b[m   18 root      20   0       0      0      0 S  0.0  0.0   0:00.00 kcompactd0   \u001b(B\u001b[m\u001b[39;49m\u001b[K\u001b[H\u001b(B\u001b[mtop - 11:25:07 up  1:43,  1 user,  load average: 0.00, 0.00, 0.00\u001b(B\u001b[m\u001b[39;49m\u001b(B\u001b[m\u001b[39;49m\u001b[K\n",
      "Tasks:\u001b(B\u001b[m\u001b[39;49m\u001b[1m  70 \u001b(B\u001b[m\u001b[39;49mtotal,\u001b(B\u001b[m\u001b[39;49m\u001b[1m   1 \u001b(B\u001b[m\u001b[39;49mrunning,\u001b(B\u001b[m\u001b[39;49m\u001b[1m  69 \u001b(B\u001b[m\u001b[39;49msleeping,\u001b(B\u001b[m\u001b[39;49m\u001b[1m   0 \u001b(B\u001b[m\u001b[39;49mstopped,\u001b(B\u001b[m\u001b[39;49m\u001b[1m   0 \u001b(B\u001b[m\u001b[39;49mzombie\u001b(B\u001b[m\u001b[39;49m\u001b(B\u001b[m\u001b[39;49m\u001b[K\n",
      "%Cpu(s):\u001b(B\u001b[m\u001b[39;49m\u001b[1m  1.7 \u001b(B\u001b[m\u001b[39;49mus,\u001b(B\u001b[m\u001b[39;49m\u001b[1m  0.0 \u001b(B\u001b[m\u001b[39;49msy,\u001b(B\u001b[m\u001b[39;49m\u001b[1m  0.0 \u001b(B\u001b[m\u001b[39;49mni,\u001b(B\u001b[m\u001b[39;49m\u001b[1m 98.3 \u001b(B\u001b[m\u001b[39;49mid,\u001b(B\u001b[m\u001b[39;49m\u001b[1m  0.0 \u001b(B\u001b[m\u001b[39;49mwa,\u001b(B\u001b[m\u001b[39;49m\u001b[1m  0.0 \u001b(B\u001b[m\u001b[39;49mhi,\u001b(B\u001b[m\u001b[39;49m\u001b[1m  0.0 \u001b(B\u001b[m\u001b[39;49msi,\u001b(B\u001b[m\u001b[39;49m\u001b[1m  0.0 \u001b(B\u001b[m\u001b[39;49mst\u001b(B\u001b[m\u001b[39;49m\u001b(B\u001b[m\u001b[39;49m\u001b[K\n",
      "KiB Mem :\u001b(B\u001b[m\u001b[39;49m\u001b[1m  1020360 \u001b(B\u001b[m\u001b[39;49mtotal,\u001b(B\u001b[m\u001b[39;49m\u001b[1m   587516 \u001b(B\u001b[m\u001b[39;49mfree,\u001b(B\u001b[m\u001b[39;49m\u001b[1m   111840 \u001b(B\u001b[m\u001b[39;49mused,\u001b(B\u001b[m\u001b[39;49m\u001b[1m   321004 \u001b(B\u001b[m\u001b[39;49mbuff/cache\u001b(B\u001b[m\u001b[39;49m\u001b(B\u001b[m\u001b[39;49m\u001b[K\n",
      "KiB Swap:\u001b(B\u001b[m\u001b[39;49m\u001b[1m  1046524 \u001b(B\u001b[m\u001b[39;49mtotal,\u001b(B\u001b[m\u001b[39;49m\u001b[1m  1046524 \u001b(B\u001b[m\u001b[39;49mfree,\u001b(B\u001b[m\u001b[39;49m\u001b[1m        0 \u001b(B\u001b[m\u001b[39;49mused.\u001b(B\u001b[m\u001b[39;49m\u001b[1m   765236 \u001b(B\u001b[m\u001b[39;49mavail Mem \u001b(B\u001b[m\u001b[39;49m\u001b(B\u001b[m\u001b[39;49m\u001b[K\n",
      "\u001b[K\n",
      "\n",
      "\u001b(B\u001b[m 1235 vagrant   20   0  381584  54520  12176 S  1.3  5.3   0:03.79 jupyter-lab  \u001b(B\u001b[m\u001b[39;49m\u001b[K\n",
      "\u001b(B\u001b[m 1242 vagrant   20   0  518980  37852  11328 S  0.3  3.7   0:00.61 python       \u001b(B\u001b[m\u001b[39;49m\u001b[K\n",
      "\u001b(B\u001b[m\u001b[1m 1488 vagrant   20   0   44772   3684   3160 R  0.3  0.4   0:00.01 top          \u001b(B\u001b[m\u001b[39;49m\u001b[K\n",
      "\u001b(B\u001b[m    1 root      20   0   56956   6624   5224 S  0.0  0.6   0:00.49 systemd      \u001b(B\u001b[m\u001b[39;49m\u001b[K\n",
      "\u001b(B\u001b[m    2 root      20   0       0      0      0 S  0.0  0.0   0:00.00 kthreadd     \u001b(B\u001b[m\u001b[39;49m\u001b[K\n",
      "\u001b(B\u001b[m    3 root      20   0       0      0      0 S  0.0  0.0   0:00.03 ksoftirqd/0  \u001b(B\u001b[m\u001b[39;49m\u001b[K\n",
      "\u001b(B\u001b[m    4 root      20   0       0      0      0 S  0.0  0.0   0:03.54 kworker/0:0  \u001b(B\u001b[m\u001b[39;49m\u001b[K\n",
      "\u001b(B\u001b[m    5 root       0 -20       0      0      0 S  0.0  0.0   0:00.00 kworker/0:0H \u001b(B\u001b[m\u001b[39;49m\u001b[K\n",
      "\u001b(B\u001b[m    7 root      20   0       0      0      0 S  0.0  0.0   0:00.08 rcu_sched    \u001b(B\u001b[m\u001b[39;49m\u001b[K\n",
      "\u001b(B\u001b[m    8 root      20   0       0      0      0 S  0.0  0.0   0:00.00 rcu_bh       \u001b(B\u001b[m\u001b[39;49m\u001b[K\n",
      "\u001b(B\u001b[m    9 root      rt   0       0      0      0 S  0.0  0.0   0:00.00 migration/0  \u001b(B\u001b[m\u001b[39;49m\u001b[K\n",
      "\u001b(B\u001b[m   10 root       0 -20       0      0      0 S  0.0  0.0   0:00.00 lru-add-dra+ \u001b(B\u001b[m\u001b[39;49m\u001b[K\n",
      "\u001b(B\u001b[m   11 root      rt   0       0      0      0 S  0.0  0.0   0:00.02 watchdog/0   \u001b(B\u001b[m\u001b[39;49m\u001b[K\n",
      "\u001b(B\u001b[m   12 root      20   0       0      0      0 S  0.0  0.0   0:00.00 cpuhp/0      \u001b(B\u001b[m\u001b[39;49m\u001b[K\n",
      "\u001b(B\u001b[m   13 root      20   0       0      0      0 S  0.0  0.0   0:00.00 kdevtmpfs    \u001b(B\u001b[m\u001b[39;49m\u001b[K\n",
      "\u001b(B\u001b[m   14 root       0 -20       0      0      0 S  0.0  0.0   0:00.00 netns        \u001b(B\u001b[m\u001b[39;49m\u001b[K\n",
      "\u001b(B\u001b[m   15 root      20   0       0      0      0 S  0.0  0.0   0:00.00 khungtaskd   \u001b(B\u001b[m\u001b[39;49m\u001b[K\u001b[H\u001b(B\u001b[mtop - 11:25:10 up  1:43,  1 user,  load average: 0.00, 0.00, 0.00\u001b(B\u001b[m\u001b[39;49m\u001b(B\u001b[m\u001b[39;49m\u001b[K\n",
      "\n",
      "%Cpu(s):\u001b(B\u001b[m\u001b[39;49m\u001b[1m  1.3 \u001b(B\u001b[m\u001b[39;49mus,\u001b(B\u001b[m\u001b[39;49m\u001b[1m  0.7 \u001b(B\u001b[m\u001b[39;49msy,\u001b(B\u001b[m\u001b[39;49m\u001b[1m  0.0 \u001b(B\u001b[m\u001b[39;49mni,\u001b(B\u001b[m\u001b[39;49m\u001b[1m 98.0 \u001b(B\u001b[m\u001b[39;49mid,\u001b(B\u001b[m\u001b[39;49m\u001b[1m  0.0 \u001b(B\u001b[m\u001b[39;49mwa,\u001b(B\u001b[m\u001b[39;49m\u001b[1m  0.0 \u001b(B\u001b[m\u001b[39;49mhi,\u001b(B\u001b[m\u001b[39;49m\u001b[1m  0.0 \u001b(B\u001b[m\u001b[39;49msi,\u001b(B\u001b[m\u001b[39;49m\u001b[1m  0.0 \u001b(B\u001b[m\u001b[39;49mst\u001b(B\u001b[m\u001b[39;49m\u001b(B\u001b[m\u001b[39;49m\u001b[K\n",
      "KiB Mem :\u001b(B\u001b[m\u001b[39;49m\u001b[1m  1020360 \u001b(B\u001b[m\u001b[39;49mtotal,\u001b(B\u001b[m\u001b[39;49m\u001b[1m   587392 \u001b(B\u001b[m\u001b[39;49mfree,\u001b(B\u001b[m\u001b[39;49m\u001b[1m   111956 \u001b(B\u001b[m\u001b[39;49mused,\u001b(B\u001b[m\u001b[39;49m\u001b[1m   321012 \u001b(B\u001b[m\u001b[39;49mbuff/cache\u001b(B\u001b[m\u001b[39;49m\u001b(B\u001b[m\u001b[39;49m\u001b[K\n",
      "KiB Swap:\u001b(B\u001b[m\u001b[39;49m\u001b[1m  1046524 \u001b(B\u001b[m\u001b[39;49mtotal,\u001b(B\u001b[m\u001b[39;49m\u001b[1m  1046524 \u001b(B\u001b[m\u001b[39;49mfree,\u001b(B\u001b[m\u001b[39;49m\u001b[1m        0 \u001b(B\u001b[m\u001b[39;49mused.\u001b(B\u001b[m\u001b[39;49m\u001b[1m   765112 \u001b(B\u001b[m\u001b[39;49mavail Mem \u001b(B\u001b[m\u001b[39;49m\u001b(B\u001b[m\u001b[39;49m\u001b[K\n",
      "\u001b[K\n",
      "\n",
      "\u001b(B\u001b[m 1235 vagrant   20   0  381584  54716  12176 S  1.7  5.4   0:03.84 jupyter-lab  \u001b(B\u001b[m\u001b[39;49m\u001b[K\n",
      "\u001b(B\u001b[m    1 root      20   0   56956   6624   5224 S  0.0  0.6   0:00.49 systemd      \u001b(B\u001b[m\u001b[39;49m\u001b[K\n",
      "\u001b(B\u001b[m    2 root      20   0       0      0      0 S  0.0  0.0   0:00.00 kthreadd     \u001b(B\u001b[m\u001b[39;49m\u001b[K\n",
      "\u001b(B\u001b[m    3 root      20   0       0      0      0 S  0.0  0.0   0:00.03 ksoftirqd/0  \u001b(B\u001b[m\u001b[39;49m\u001b[K\n",
      "\u001b(B\u001b[m    4 root      20   0       0      0      0 S  0.0  0.0   0:03.54 kworker/0:0  \u001b(B\u001b[m\u001b[39;49m\u001b[K\n",
      "\u001b(B\u001b[m    5 root       0 -20       0      0      0 S  0.0  0.0   0:00.00 kworker/0:0H \u001b(B\u001b[m\u001b[39;49m\u001b[K\n",
      "\u001b(B\u001b[m    7 root      20   0       0      0      0 S  0.0  0.0   0:00.08 rcu_sched    \u001b(B\u001b[m\u001b[39;49m\u001b[K\n",
      "\u001b(B\u001b[m    8 root      20   0       0      0      0 S  0.0  0.0   0:00.00 rcu_bh       \u001b(B\u001b[m\u001b[39;49m\u001b[K\n",
      "\u001b(B\u001b[m    9 root      rt   0       0      0      0 S  0.0  0.0   0:00.00 migration/0  \u001b(B\u001b[m\u001b[39;49m\u001b[K\n",
      "\u001b(B\u001b[m   10 root       0 -20       0      0      0 S  0.0  0.0   0:00.00 lru-add-dra+ \u001b(B\u001b[m\u001b[39;49m\u001b[K\n",
      "\u001b(B\u001b[m   11 root      rt   0       0      0      0 S  0.0  0.0   0:00.02 watchdog/0   \u001b(B\u001b[m\u001b[39;49m\u001b[K\n",
      "\u001b(B\u001b[m   12 root      20   0       0      0      0 S  0.0  0.0   0:00.00 cpuhp/0      \u001b(B\u001b[m\u001b[39;49m\u001b[K\n",
      "\u001b(B\u001b[m   13 root      20   0       0      0      0 S  0.0  0.0   0:00.00 kdevtmpfs    \u001b(B\u001b[m\u001b[39;49m\u001b[K\n",
      "\u001b(B\u001b[m   14 root       0 -20       0      0      0 S  0.0  0.0   0:00.00 netns        \u001b(B\u001b[m\u001b[39;49m\u001b[K\n",
      "\u001b(B\u001b[m   15 root      20   0       0      0      0 S  0.0  0.0   0:00.00 khungtaskd   \u001b(B\u001b[m\u001b[39;49m\u001b[K\n",
      "\u001b(B\u001b[m   16 root      20   0       0      0      0 S  0.0  0.0   0:00.00 oom_reaper   \u001b(B\u001b[m\u001b[39;49m\u001b[K\n",
      "\u001b(B\u001b[m   17 root       0 -20       0      0      0 S  0.0  0.0   0:00.00 writeback    \u001b(B\u001b[m\u001b[39;49m\u001b[K\u001b[H\u001b(B\u001b[mtop - 11:25:13 up  1:44,  1 user,  load average: 0.00, 0.00, 0.00\u001b(B\u001b[m\u001b[39;49m\u001b(B\u001b[m\u001b[39;49m\u001b[K\n",
      "\n",
      "%Cpu(s):\u001b(B\u001b[m\u001b[39;49m\u001b[1m  0.7 \u001b(B\u001b[m\u001b[39;49mus,\u001b(B\u001b[m\u001b[39;49m\u001b[1m  1.0 \u001b(B\u001b[m\u001b[39;49msy,\u001b(B\u001b[m\u001b[39;49m\u001b[1m  0.0 \u001b(B\u001b[m\u001b[39;49mni,\u001b(B\u001b[m\u001b[39;49m\u001b[1m 98.3 \u001b(B\u001b[m\u001b[39;49mid,\u001b(B\u001b[m\u001b[39;49m\u001b[1m  0.0 \u001b(B\u001b[m\u001b[39;49mwa,\u001b(B\u001b[m\u001b[39;49m\u001b[1m  0.0 \u001b(B\u001b[m\u001b[39;49mhi,\u001b(B\u001b[m\u001b[39;49m\u001b[1m  0.0 \u001b(B\u001b[m\u001b[39;49msi,\u001b(B\u001b[m\u001b[39;49m\u001b[1m  0.0 \u001b(B\u001b[m\u001b[39;49mst\u001b(B\u001b[m\u001b[39;49m\u001b(B\u001b[m\u001b[39;49m\u001b[K\n",
      "KiB Mem :\u001b(B\u001b[m\u001b[39;49m\u001b[1m  1020360 \u001b(B\u001b[m\u001b[39;49mtotal,\u001b(B\u001b[m\u001b[39;49m\u001b[1m   587268 \u001b(B\u001b[m\u001b[39;49mfree,\u001b(B\u001b[m\u001b[39;49m\u001b[1m   112080 \u001b(B\u001b[m\u001b[39;49mused,\u001b(B\u001b[m\u001b[39;49m\u001b[1m   321012 \u001b(B\u001b[m\u001b[39;49mbuff/cache\u001b(B\u001b[m\u001b[39;49m\u001b(B\u001b[m\u001b[39;49m\u001b[K\n",
      "KiB Swap:\u001b(B\u001b[m\u001b[39;49m\u001b[1m  1046524 \u001b(B\u001b[m\u001b[39;49mtotal,\u001b(B\u001b[m\u001b[39;49m\u001b[1m  1046524 \u001b(B\u001b[m\u001b[39;49mfree,\u001b(B\u001b[m\u001b[39;49m\u001b[1m        0 \u001b(B\u001b[m\u001b[39;49mused.\u001b(B\u001b[m\u001b[39;49m\u001b[1m   764996 \u001b(B\u001b[m\u001b[39;49mavail Mem \u001b(B\u001b[m\u001b[39;49m\u001b(B\u001b[m\u001b[39;49m\u001b[K\n",
      "\u001b[K\n",
      "\n",
      "\u001b(B\u001b[m 1235 vagrant   20   0  381584  54716  12176 S  1.7  5.4   0:03.89 jupyter-lab  \u001b(B\u001b[m\u001b[39;49m\u001b[K\n",
      "\u001b(B\u001b[m 1242 vagrant   20   0  518980  37864  11328 S  0.3  3.7   0:00.62 python       \u001b(B\u001b[m\u001b[39;49m\u001b[K\n",
      "\u001b(B\u001b[m    1 root      20   0   56956   6624   5224 S  0.0  0.6   0:00.49 systemd      \u001b(B\u001b[m\u001b[39;49m\u001b[K\n",
      "\u001b(B\u001b[m    2 root      20   0       0      0      0 S  0.0  0.0   0:00.00 kthreadd     \u001b(B\u001b[m\u001b[39;49m\u001b[K\n",
      "\u001b(B\u001b[m    3 root      20   0       0      0      0 S  0.0  0.0   0:00.03 ksoftirqd/0  \u001b(B\u001b[m\u001b[39;49m\u001b[K\n",
      "\u001b(B\u001b[m    4 root      20   0       0      0      0 S  0.0  0.0   0:03.54 kworker/0:0  \u001b(B\u001b[m\u001b[39;49m\u001b[K\n",
      "\u001b(B\u001b[m    5 root       0 -20       0      0      0 S  0.0  0.0   0:00.00 kworker/0:0H \u001b(B\u001b[m\u001b[39;49m\u001b[K\n",
      "\u001b(B\u001b[m    7 root      20   0       0      0      0 S  0.0  0.0   0:00.08 rcu_sched    \u001b(B\u001b[m\u001b[39;49m\u001b[K\n",
      "\u001b(B\u001b[m    8 root      20   0       0      0      0 S  0.0  0.0   0:00.00 rcu_bh       \u001b(B\u001b[m\u001b[39;49m\u001b[K\n",
      "\u001b(B\u001b[m    9 root      rt   0       0      0      0 S  0.0  0.0   0:00.00 migration/0  \u001b(B\u001b[m\u001b[39;49m\u001b[K\n",
      "\u001b(B\u001b[m   10 root       0 -20       0      0      0 S  0.0  0.0   0:00.00 lru-add-dra+ \u001b(B\u001b[m\u001b[39;49m\u001b[K\n",
      "\u001b(B\u001b[m   11 root      rt   0       0      0      0 S  0.0  0.0   0:00.02 watchdog/0   \u001b(B\u001b[m\u001b[39;49m\u001b[K\n",
      "\u001b(B\u001b[m   12 root      20   0       0      0      0 S  0.0  0.0   0:00.00 cpuhp/0      \u001b(B\u001b[m\u001b[39;49m\u001b[K\n",
      "\u001b(B\u001b[m   13 root      20   0       0      0      0 S  0.0  0.0   0:00.00 kdevtmpfs    \u001b(B\u001b[m\u001b[39;49m\u001b[K\n",
      "\u001b(B\u001b[m   14 root       0 -20       0      0      0 S  0.0  0.0   0:00.00 netns        \u001b(B\u001b[m\u001b[39;49m\u001b[K\n",
      "\u001b(B\u001b[m   15 root      20   0       0      0      0 S  0.0  0.0   0:00.00 khungtaskd   \u001b(B\u001b[m\u001b[39;49m\u001b[K\n",
      "\u001b(B\u001b[m   16 root      20   0       0      0      0 S  0.0  0.0   0:00.00 oom_reaper   \u001b(B\u001b[m\u001b[39;49m\u001b[K\u001b[H\u001b(B\u001b[mtop - 11:25:16 up  1:44,  1 user,  load average: 0.00, 0.00, 0.00\u001b(B\u001b[m\u001b[39;49m\u001b(B\u001b[m\u001b[39;49m\u001b[K\n",
      "\n",
      "%Cpu(s):\u001b(B\u001b[m\u001b[39;49m\u001b[1m  1.0 \u001b(B\u001b[m\u001b[39;49mus,\u001b(B\u001b[m\u001b[39;49m\u001b[1m  0.3 \u001b(B\u001b[m\u001b[39;49msy,\u001b(B\u001b[m\u001b[39;49m\u001b[1m  0.0 \u001b(B\u001b[m\u001b[39;49mni,\u001b(B\u001b[m\u001b[39;49m\u001b[1m 98.7 \u001b(B\u001b[m\u001b[39;49mid,\u001b(B\u001b[m\u001b[39;49m\u001b[1m  0.0 \u001b(B\u001b[m\u001b[39;49mwa,\u001b(B\u001b[m\u001b[39;49m\u001b[1m  0.0 \u001b(B\u001b[m\u001b[39;49mhi,\u001b(B\u001b[m\u001b[39;49m\u001b[1m  0.0 \u001b(B\u001b[m\u001b[39;49msi,\u001b(B\u001b[m\u001b[39;49m\u001b[1m  0.0 \u001b(B\u001b[m\u001b[39;49mst\u001b(B\u001b[m\u001b[39;49m\u001b(B\u001b[m\u001b[39;49m\u001b[K\n",
      "KiB Mem :\u001b(B\u001b[m\u001b[39;49m\u001b[1m  1020360 \u001b(B\u001b[m\u001b[39;49mtotal,\u001b(B\u001b[m\u001b[39;49m\u001b[1m   587144 \u001b(B\u001b[m\u001b[39;49mfree,\u001b(B\u001b[m\u001b[39;49m\u001b[1m   112208 \u001b(B\u001b[m\u001b[39;49mused,\u001b(B\u001b[m\u001b[39;49m\u001b[1m   321008 \u001b(B\u001b[m\u001b[39;49mbuff/cache\u001b(B\u001b[m\u001b[39;49m\u001b(B\u001b[m\u001b[39;49m\u001b[K\n",
      "KiB Swap:\u001b(B\u001b[m\u001b[39;49m\u001b[1m  1046524 \u001b(B\u001b[m\u001b[39;49mtotal,\u001b(B\u001b[m\u001b[39;49m\u001b[1m  1046524 \u001b(B\u001b[m\u001b[39;49mfree,\u001b(B\u001b[m\u001b[39;49m\u001b[1m        0 \u001b(B\u001b[m\u001b[39;49mused.\u001b(B\u001b[m\u001b[39;49m\u001b[1m   764868 \u001b(B\u001b[m\u001b[39;49mavail Mem \u001b(B\u001b[m\u001b[39;49m\u001b(B\u001b[m\u001b[39;49m\u001b[K\n",
      "\u001b[K\n",
      "\n",
      "\u001b(B\u001b[m 1235 vagrant   20   0  381584  54716  12176 S  1.0  5.4   0:03.92 jupyter-lab  \u001b(B\u001b[m\u001b[39;49m\u001b[K\n",
      "\u001b(B\u001b[m 1242 vagrant   20   0  518980  37860  11328 S  0.3  3.7   0:00.63 python       \u001b(B\u001b[m\u001b[39;49m\u001b[K\n",
      "\n",
      "\n",
      "\n",
      "\n",
      "\n",
      "\n",
      "\n",
      "\n",
      "\n",
      "\n",
      "\n",
      "\n",
      "\n",
      "\n",
      "\u001b[H\u001b(B\u001b[mtop - 11:25:20 up  1:44,  1 user,  load average: 0.00, 0.00, 0.00\u001b(B\u001b[m\u001b[39;49m\u001b(B\u001b[m\u001b[39;49m\u001b[K\n",
      "Tasks:\u001b(B\u001b[m\u001b[39;49m\u001b[1m  70 \u001b(B\u001b[m\u001b[39;49mtotal,\u001b(B\u001b[m\u001b[39;49m\u001b[1m   2 \u001b(B\u001b[m\u001b[39;49mrunning,\u001b(B\u001b[m\u001b[39;49m\u001b[1m  68 \u001b(B\u001b[m\u001b[39;49msleeping,\u001b(B\u001b[m\u001b[39;49m\u001b[1m   0 \u001b(B\u001b[m\u001b[39;49mstopped,\u001b(B\u001b[m\u001b[39;49m\u001b[1m   0 \u001b(B\u001b[m\u001b[39;49mzombie\u001b(B\u001b[m\u001b[39;49m\u001b(B\u001b[m\u001b[39;49m\u001b[K\n",
      "%Cpu(s):\u001b(B\u001b[m\u001b[39;49m\u001b[1m  1.3 \u001b(B\u001b[m\u001b[39;49mus,\u001b(B\u001b[m\u001b[39;49m\u001b[1m  0.0 \u001b(B\u001b[m\u001b[39;49msy,\u001b(B\u001b[m\u001b[39;49m\u001b[1m  0.0 \u001b(B\u001b[m\u001b[39;49mni,\u001b(B\u001b[m\u001b[39;49m\u001b[1m 98.7 \u001b(B\u001b[m\u001b[39;49mid,\u001b(B\u001b[m\u001b[39;49m\u001b[1m  0.0 \u001b(B\u001b[m\u001b[39;49mwa,\u001b(B\u001b[m\u001b[39;49m\u001b[1m  0.0 \u001b(B\u001b[m\u001b[39;49mhi,\u001b(B\u001b[m\u001b[39;49m\u001b[1m  0.0 \u001b(B\u001b[m\u001b[39;49msi,\u001b(B\u001b[m\u001b[39;49m\u001b[1m  0.0 \u001b(B\u001b[m\u001b[39;49mst\u001b(B\u001b[m\u001b[39;49m\u001b(B\u001b[m\u001b[39;49m\u001b[K\n",
      "\n",
      "\n",
      "\u001b[K\n",
      "\n",
      "\u001b(B\u001b[m 1235 vagrant   20   0  381584  54716  12176 S  1.3  5.4   0:03.96 jupyter-lab  \u001b(B\u001b[m\u001b[39;49m\u001b[K\n",
      "\u001b(B\u001b[m 1242 vagrant   20   0  518980  37860  11328 S  0.3  3.7   0:00.64 python       \u001b(B\u001b[m\u001b[39;49m\u001b[K\n",
      "\n",
      "\n",
      "\n",
      "\n",
      "\n",
      "\u001b(B\u001b[m\u001b[1m    7 root      20   0       0      0      0 R  0.0  0.0   0:00.08 rcu_sched    \u001b(B\u001b[m\u001b[39;49m\u001b[K\n",
      "\n",
      "\n",
      "\n",
      "\n",
      "\n",
      "\n",
      "\n",
      "\n",
      "\u001b[H\u001b(B\u001b[mtop - 11:25:23 up  1:44,  1 user,  load average: 0.00, 0.00, 0.00\u001b(B\u001b[m\u001b[39;49m\u001b(B\u001b[m\u001b[39;49m\u001b[K\n",
      "Tasks:\u001b(B\u001b[m\u001b[39;49m\u001b[1m  70 \u001b(B\u001b[m\u001b[39;49mtotal,\u001b(B\u001b[m\u001b[39;49m\u001b[1m   1 \u001b(B\u001b[m\u001b[39;49mrunning,\u001b(B\u001b[m\u001b[39;49m\u001b[1m  69 \u001b(B\u001b[m\u001b[39;49msleeping,\u001b(B\u001b[m\u001b[39;49m\u001b[1m   0 \u001b(B\u001b[m\u001b[39;49mstopped,\u001b(B\u001b[m\u001b[39;49m\u001b[1m   0 \u001b(B\u001b[m\u001b[39;49mzombie\u001b(B\u001b[m\u001b[39;49m\u001b(B\u001b[m\u001b[39;49m\u001b[K\n",
      "%Cpu(s):\u001b(B\u001b[m\u001b[39;49m\u001b[1m  1.3 \u001b(B\u001b[m\u001b[39;49mus,\u001b(B\u001b[m\u001b[39;49m\u001b[1m  0.7 \u001b(B\u001b[m\u001b[39;49msy,\u001b(B\u001b[m\u001b[39;49m\u001b[1m  0.0 \u001b(B\u001b[m\u001b[39;49mni,\u001b(B\u001b[m\u001b[39;49m\u001b[1m 98.0 \u001b(B\u001b[m\u001b[39;49mid,\u001b(B\u001b[m\u001b[39;49m\u001b[1m  0.0 \u001b(B\u001b[m\u001b[39;49mwa,\u001b(B\u001b[m\u001b[39;49m\u001b[1m  0.0 \u001b(B\u001b[m\u001b[39;49mhi,\u001b(B\u001b[m\u001b[39;49m\u001b[1m  0.0 \u001b(B\u001b[m\u001b[39;49msi,\u001b(B\u001b[m\u001b[39;49m\u001b[1m  0.0 \u001b(B\u001b[m\u001b[39;49mst\u001b(B\u001b[m\u001b[39;49m\u001b(B\u001b[m\u001b[39;49m\u001b[K\n",
      "\n",
      "\n",
      "\u001b[K\n",
      "\n",
      "\u001b(B\u001b[m 1235 vagrant   20   0  381584  54716  12176 S  1.3  5.4   0:04.00 jupyter-lab  \u001b(B\u001b[m\u001b[39;49m\u001b[K\n",
      "\u001b(B\u001b[m 1242 vagrant   20   0  518980  37860  11328 S  0.3  3.7   0:00.65 python       \u001b(B\u001b[m\u001b[39;49m\u001b[K\n",
      "\n",
      "\n",
      "\n",
      "\n",
      "\n",
      "\u001b(B\u001b[m    7 root      20   0       0      0      0 S  0.0  0.0   0:00.08 rcu_sched    \u001b(B\u001b[m\u001b[39;49m\u001b[K\n",
      "\n",
      "\n",
      "\n",
      "\n",
      "\n",
      "\n",
      "\n",
      "\n",
      "\u001b[H\u001b(B\u001b[mtop - 11:25:26 up  1:44,  1 user,  load average: 0.00, 0.00, 0.00\u001b(B\u001b[m\u001b[39;49m\u001b(B\u001b[m\u001b[39;49m\u001b[K\n",
      "\n",
      "\n",
      "\n",
      "\n",
      "\u001b[K\n",
      "\n",
      "\u001b(B\u001b[m 1235 vagrant   20   0  381584  54716  12176 S  1.3  5.4   0:04.04 jupyter-lab  \u001b(B\u001b[m\u001b[39;49m\u001b[K\n",
      "\u001b(B\u001b[m    4 root      20   0       0      0      0 S  0.3  0.0   0:03.55 kworker/0:0  \u001b(B\u001b[m\u001b[39;49m\u001b[K\n",
      "\u001b(B\u001b[m  740 root      20   0  249288   2572   2164 S  0.3  0.3   0:01.23 VBoxService  \u001b(B\u001b[m\u001b[39;49m\u001b[K\n",
      "\u001b(B\u001b[m\u001b[1m 1488 vagrant   20   0   44772   3684   3160 R  0.3  0.4   0:00.02 top          \u001b(B\u001b[m\u001b[39;49m\u001b[K\n",
      "\u001b(B\u001b[m    1 root      20   0   56956   6624   5224 S  0.0  0.6   0:00.49 systemd      \u001b(B\u001b[m\u001b[39;49m\u001b[K\n",
      "\u001b(B\u001b[m    2 root      20   0       0      0      0 S  0.0  0.0   0:00.00 kthreadd     \u001b(B\u001b[m\u001b[39;49m\u001b[K\n",
      "\u001b(B\u001b[m    3 root      20   0       0      0      0 S  0.0  0.0   0:00.03 ksoftirqd/0  \u001b(B\u001b[m\u001b[39;49m\u001b[K\n",
      "\u001b(B\u001b[m    5 root       0 -20       0      0      0 S  0.0  0.0   0:00.00 kworker/0:0H \u001b(B\u001b[m\u001b[39;49m\u001b[K\n",
      "\u001b(B\u001b[m    7 root      20   0       0      0      0 S  0.0  0.0   0:00.08 rcu_sched    \u001b(B\u001b[m\u001b[39;49m\u001b[K\n",
      "\u001b(B\u001b[m    8 root      20   0       0      0      0 S  0.0  0.0   0:00.00 rcu_bh       \u001b(B\u001b[m\u001b[39;49m\u001b[K\n",
      "\u001b(B\u001b[m    9 root      rt   0       0      0      0 S  0.0  0.0   0:00.00 migration/0  \u001b(B\u001b[m\u001b[39;49m\u001b[K\n",
      "\u001b(B\u001b[m   10 root       0 -20       0      0      0 S  0.0  0.0   0:00.00 lru-add-dra+ \u001b(B\u001b[m\u001b[39;49m\u001b[K\n",
      "\u001b(B\u001b[m   11 root      rt   0       0      0      0 S  0.0  0.0   0:00.02 watchdog/0   \u001b(B\u001b[m\u001b[39;49m\u001b[K\n",
      "\u001b(B\u001b[m   12 root      20   0       0      0      0 S  0.0  0.0   0:00.00 cpuhp/0      \u001b(B\u001b[m\u001b[39;49m\u001b[K\n",
      "\u001b(B\u001b[m   13 root      20   0       0      0      0 S  0.0  0.0   0:00.00 kdevtmpfs    \u001b(B\u001b[m\u001b[39;49m\u001b[K\n",
      "\u001b(B\u001b[m   14 root       0 -20       0      0      0 S  0.0  0.0   0:00.00 netns        \u001b(B\u001b[m\u001b[39;49m\u001b[K\n",
      "\u001b(B\u001b[m   15 root      20   0       0      0      0 S  0.0  0.0   0:00.00 khungtaskd   \u001b(B\u001b[m\u001b[39;49m\u001b[K\u001b[H\u001b(B\u001b[mtop - 11:25:29 up  1:44,  1 user,  load average: 0.00, 0.00, 0.00\u001b(B\u001b[m\u001b[39;49m\u001b(B\u001b[m\u001b[39;49m\u001b[K\n",
      "\n",
      "%Cpu(s):\u001b(B\u001b[m\u001b[39;49m\u001b[1m  1.3 \u001b(B\u001b[m\u001b[39;49mus,\u001b(B\u001b[m\u001b[39;49m\u001b[1m  0.3 \u001b(B\u001b[m\u001b[39;49msy,\u001b(B\u001b[m\u001b[39;49m\u001b[1m  0.0 \u001b(B\u001b[m\u001b[39;49mni,\u001b(B\u001b[m\u001b[39;49m\u001b[1m 98.3 \u001b(B\u001b[m\u001b[39;49mid,\u001b(B\u001b[m\u001b[39;49m\u001b[1m  0.0 \u001b(B\u001b[m\u001b[39;49mwa,\u001b(B\u001b[m\u001b[39;49m\u001b[1m  0.0 \u001b(B\u001b[m\u001b[39;49mhi,\u001b(B\u001b[m\u001b[39;49m\u001b[1m  0.0 \u001b(B\u001b[m\u001b[39;49msi,\u001b(B\u001b[m\u001b[39;49m\u001b[1m  0.0 \u001b(B\u001b[m\u001b[39;49mst\u001b(B\u001b[m\u001b[39;49m\u001b(B\u001b[m\u001b[39;49m\u001b[K\n",
      "KiB Mem :\u001b(B\u001b[m\u001b[39;49m\u001b[1m  1020360 \u001b(B\u001b[m\u001b[39;49mtotal,\u001b(B\u001b[m\u001b[39;49m\u001b[1m   587020 \u001b(B\u001b[m\u001b[39;49mfree,\u001b(B\u001b[m\u001b[39;49m\u001b[1m   112332 \u001b(B\u001b[m\u001b[39;49mused,\u001b(B\u001b[m\u001b[39;49m\u001b[1m   321008 \u001b(B\u001b[m\u001b[39;49mbuff/cache\u001b(B\u001b[m\u001b[39;49m\u001b(B\u001b[m\u001b[39;49m\u001b[K\n",
      "KiB Swap:\u001b(B\u001b[m\u001b[39;49m\u001b[1m  1046524 \u001b(B\u001b[m\u001b[39;49mtotal,\u001b(B\u001b[m\u001b[39;49m\u001b[1m  1046524 \u001b(B\u001b[m\u001b[39;49mfree,\u001b(B\u001b[m\u001b[39;49m\u001b[1m        0 \u001b(B\u001b[m\u001b[39;49mused.\u001b(B\u001b[m\u001b[39;49m\u001b[1m   764744 \u001b(B\u001b[m\u001b[39;49mavail Mem \u001b(B\u001b[m\u001b[39;49m\u001b(B\u001b[m\u001b[39;49m\u001b[K\n",
      "\u001b[K\n",
      "\n",
      "\u001b(B\u001b[m 1235 vagrant   20   0  381584  54716  12176 S  1.3  5.4   0:04.08 jupyter-lab  \u001b(B\u001b[m\u001b[39;49m\u001b[K\n",
      "\u001b(B\u001b[m 1242 vagrant   20   0  518980  37860  11328 S  0.7  3.7   0:00.67 python       \u001b(B\u001b[m\u001b[39;49m\u001b[K\n",
      "\u001b(B\u001b[m    1 root      20   0   56956   6624   5224 S  0.0  0.6   0:00.49 systemd      \u001b(B\u001b[m\u001b[39;49m\u001b[K\n",
      "\u001b(B\u001b[m    2 root      20   0       0      0      0 S  0.0  0.0   0:00.00 kthreadd     \u001b(B\u001b[m\u001b[39;49m\u001b[K\n",
      "\u001b(B\u001b[m    3 root      20   0       0      0      0 S  0.0  0.0   0:00.03 ksoftirqd/0  \u001b(B\u001b[m\u001b[39;49m\u001b[K\n",
      "\u001b(B\u001b[m    4 root      20   0       0      0      0 S  0.0  0.0   0:03.55 kworker/0:0  \u001b(B\u001b[m\u001b[39;49m\u001b[K\n",
      "\u001b(B\u001b[m    5 root       0 -20       0      0      0 S  0.0  0.0   0:00.00 kworker/0:0H \u001b(B\u001b[m\u001b[39;49m\u001b[K\n",
      "\u001b(B\u001b[m    7 root      20   0       0      0      0 S  0.0  0.0   0:00.08 rcu_sched    \u001b(B\u001b[m\u001b[39;49m\u001b[K\n",
      "\u001b(B\u001b[m    8 root      20   0       0      0      0 S  0.0  0.0   0:00.00 rcu_bh       \u001b(B\u001b[m\u001b[39;49m\u001b[K\n",
      "\u001b(B\u001b[m    9 root      rt   0       0      0      0 S  0.0  0.0   0:00.00 migration/0  \u001b(B\u001b[m\u001b[39;49m\u001b[K\n",
      "\u001b(B\u001b[m   10 root       0 -20       0      0      0 S  0.0  0.0   0:00.00 lru-add-dra+ \u001b(B\u001b[m\u001b[39;49m\u001b[K\n",
      "\u001b(B\u001b[m   11 root      rt   0       0      0      0 S  0.0  0.0   0:00.02 watchdog/0   \u001b(B\u001b[m\u001b[39;49m\u001b[K\n",
      "\u001b(B\u001b[m   12 root      20   0       0      0      0 S  0.0  0.0   0:00.00 cpuhp/0      \u001b(B\u001b[m\u001b[39;49m\u001b[K\n",
      "\u001b(B\u001b[m   13 root      20   0       0      0      0 S  0.0  0.0   0:00.00 kdevtmpfs    \u001b(B\u001b[m\u001b[39;49m\u001b[K\n",
      "\u001b(B\u001b[m   14 root       0 -20       0      0      0 S  0.0  0.0   0:00.00 netns        \u001b(B\u001b[m\u001b[39;49m\u001b[K\n",
      "\u001b(B\u001b[m   15 root      20   0       0      0      0 S  0.0  0.0   0:00.00 khungtaskd   \u001b(B\u001b[m\u001b[39;49m\u001b[K\n",
      "\u001b(B\u001b[m   16 root      20   0       0      0      0 S  0.0  0.0   0:00.00 oom_reaper   \u001b(B\u001b[m\u001b[39;49m\u001b[K\u001b[H\u001b(B\u001b[mtop - 11:25:32 up  1:44,  1 user,  load average: 0.00, 0.00, 0.00\u001b(B\u001b[m\u001b[39;49m\u001b(B\u001b[m\u001b[39;49m\u001b[K\n",
      "Tasks:\u001b(B\u001b[m\u001b[39;49m\u001b[1m  70 \u001b(B\u001b[m\u001b[39;49mtotal,\u001b(B\u001b[m\u001b[39;49m\u001b[1m   2 \u001b(B\u001b[m\u001b[39;49mrunning,\u001b(B\u001b[m\u001b[39;49m\u001b[1m  68 \u001b(B\u001b[m\u001b[39;49msleeping,\u001b(B\u001b[m\u001b[39;49m\u001b[1m   0 \u001b(B\u001b[m\u001b[39;49mstopped,\u001b(B\u001b[m\u001b[39;49m\u001b[1m   0 \u001b(B\u001b[m\u001b[39;49mzombie\u001b(B\u001b[m\u001b[39;49m\u001b(B\u001b[m\u001b[39;49m\u001b[K\n",
      "%Cpu(s):\u001b(B\u001b[m\u001b[39;49m\u001b[1m  1.0 \u001b(B\u001b[m\u001b[39;49mus,\u001b(B\u001b[m\u001b[39;49m\u001b[1m  0.7 \u001b(B\u001b[m\u001b[39;49msy,\u001b(B\u001b[m\u001b[39;49m\u001b[1m  0.0 \u001b(B\u001b[m\u001b[39;49mni,\u001b(B\u001b[m\u001b[39;49m\u001b[1m 98.3 \u001b(B\u001b[m\u001b[39;49mid,\u001b(B\u001b[m\u001b[39;49m\u001b[1m  0.0 \u001b(B\u001b[m\u001b[39;49mwa,\u001b(B\u001b[m\u001b[39;49m\u001b[1m  0.0 \u001b(B\u001b[m\u001b[39;49mhi,\u001b(B\u001b[m\u001b[39;49m\u001b[1m  0.0 \u001b(B\u001b[m\u001b[39;49msi,\u001b(B\u001b[m\u001b[39;49m\u001b[1m  0.0 \u001b(B\u001b[m\u001b[39;49mst\u001b(B\u001b[m\u001b[39;49m\u001b(B\u001b[m\u001b[39;49m\u001b[K\n",
      "\n",
      "\n",
      "\u001b[K\n",
      "\n",
      "\u001b(B\u001b[m 1235 vagrant   20   0  381584  54716  12176 S  1.3  5.4   0:04.12 jupyter-lab  \u001b(B\u001b[m\u001b[39;49m\u001b[K\n",
      "\u001b(B\u001b[m\u001b[1m 1488 vagrant   20   0   44772   3684   3160 R  0.3  0.4   0:00.03 top          \u001b(B\u001b[m\u001b[39;49m\u001b[K\n",
      "\n",
      "\n",
      "\n",
      "\n",
      "\n",
      "\u001b(B\u001b[m\u001b[1m    7 root      20   0       0      0      0 R  0.0  0.0   0:00.08 rcu_sched    \u001b(B\u001b[m\u001b[39;49m\u001b[K\n",
      "\n",
      "\n",
      "\n",
      "\n",
      "\n",
      "\n",
      "\n",
      "\n"
     ]
    }
   ],
   "source": [
    "top"
   ]
  },
  {
   "cell_type": "markdown",
   "metadata": {},
   "source": [
    "# Comando PS\n",
    "\n",
    "Este comando nos permite observar los procesos, lee directamente la información del sistema de archivos /proc."
   ]
  },
  {
   "cell_type": "code",
   "execution_count": 17,
   "metadata": {},
   "outputs": [
    {
     "name": "stdout",
     "output_type": "stream",
     "text": [
      "UID        PID  PPID  C STIME TTY          TIME CMD\n",
      "root         1     0  0 21:30 ?        00:00:00 /sbin/init\n",
      "root         2     0  0 21:30 ?        00:00:00 [kthreadd]\n",
      "root         3     2  0 21:30 ?        00:00:00 [ksoftirqd/0]\n",
      "root         5     2  0 21:30 ?        00:00:00 [kworker/0:0H]\n",
      "root         7     2  0 21:30 ?        00:00:00 [rcu_sched]\n",
      "root         8     2  0 21:30 ?        00:00:00 [rcu_bh]\n",
      "root         9     2  0 21:30 ?        00:00:00 [migration/0]\n",
      "root        10     2  0 21:30 ?        00:00:00 [lru-add-drain]\n",
      "root        11     2  0 21:30 ?        00:00:00 [watchdog/0]\n",
      "root        12     2  0 21:30 ?        00:00:00 [cpuhp/0]\n",
      "root        13     2  0 21:30 ?        00:00:00 [kdevtmpfs]\n",
      "root        14     2  0 21:30 ?        00:00:00 [netns]\n",
      "root        15     2  0 21:30 ?        00:00:00 [khungtaskd]\n",
      "root        16     2  0 21:30 ?        00:00:00 [oom_reaper]\n",
      "root        17     2  0 21:30 ?        00:00:00 [writeback]\n",
      "root        18     2  0 21:30 ?        00:00:00 [kcompactd0]\n",
      "root        19     2  0 21:30 ?        00:00:00 [ksmd]\n",
      "root        20     2  0 21:30 ?        00:00:01 [kworker/0:1]\n",
      "root        21     2  0 21:30 ?        00:00:00 [khugepaged]\n",
      "root        22     2  0 21:30 ?        00:00:00 [crypto]\n",
      "root        23     2  0 21:30 ?        00:00:00 [kintegrityd]\n",
      "root        24     2  0 21:30 ?        00:00:00 [bioset]\n",
      "root        25     2  0 21:30 ?        00:00:00 [kblockd]\n",
      "root        26     2  0 21:30 ?        00:00:00 [devfreq_wq]\n",
      "root        27     2  0 21:30 ?        00:00:00 [watchdogd]\n",
      "root        28     2  0 21:30 ?        00:00:00 [kswapd0]\n",
      "root        29     2  0 21:30 ?        00:00:00 [vmstat]\n",
      "root        41     2  0 21:30 ?        00:00:00 [kthrotld]\n",
      "root        42     2  0 21:30 ?        00:00:00 [ipv6_addrconf]\n",
      "root        75     2  0 21:30 ?        00:00:00 [ata_sff]\n",
      "root        83     2  0 21:30 ?        00:00:00 [kworker/u2:1]\n",
      "root       103     2  0 21:30 ?        00:00:00 [scsi_eh_0]\n",
      "root       104     2  0 21:30 ?        00:00:00 [scsi_tmf_0]\n",
      "root       105     2  0 21:30 ?        00:00:00 [scsi_eh_1]\n",
      "root       106     2  0 21:30 ?        00:00:00 [scsi_tmf_1]\n",
      "root       107     2  0 21:30 ?        00:00:00 [scsi_eh_2]\n",
      "root       108     2  0 21:30 ?        00:00:00 [kworker/u2:2]\n",
      "root       109     2  0 21:30 ?        00:00:00 [scsi_tmf_2]\n",
      "root       111     2  0 21:30 ?        00:00:00 [bioset]\n",
      "root       112     2  0 21:30 ?        00:00:00 [bioset]\n",
      "root       114     2  0 21:30 ?        00:00:00 [kworker/0:1H]\n",
      "root       142     2  0 21:30 ?        00:00:00 [kworker/u3:0]\n",
      "root       150     2  0 21:30 ?        00:00:00 [jbd2/sda1-8]\n",
      "root       151     2  0 21:30 ?        00:00:00 [ext4-rsv-conver]\n",
      "root       176     1  0 21:30 ?        00:00:00 /lib/systemd/systemd-journald\n",
      "root       182     2  0 21:30 ?        00:00:00 [kauditd]\n",
      "root       189     1  0 21:30 ?        00:00:00 /lib/systemd/systemd-udevd\n",
      "root       233     2  0 21:30 ?        00:00:00 [iprt-VBoxWQueue]\n",
      "root       234     2  0 21:30 ?        00:00:00 [ttm_swap]\n",
      "root       370     1  0 21:30 ?        00:00:00 /usr/sbin/cron -f\n",
      "root       371     1  0 21:30 ?        00:00:00 /usr/sbin/rsyslogd -n\n",
      "root       373     1  0 21:30 ?        00:00:00 /lib/systemd/systemd-logind\n",
      "message+   375     1  0 21:30 ?        00:00:00 /usr/bin/dbus-daemon --system --\n",
      "root       405     1  0 21:30 tty1     00:00:00 /sbin/agetty --noclear tty1 linu\n",
      "root       413     1  0 21:30 ?        00:00:00 /usr/sbin/sshd -D\n",
      "Debian-+   660     1  0 21:30 ?        00:00:00 /usr/sbin/exim4 -bd -q30m\n",
      "root       723     1  0 21:30 ?        00:00:00 /usr/sbin/VBoxService --pidfile \n",
      "root       743     1  0 21:30 ?        00:00:00 /sbin/dhclient -4 -v -pf /run/dh\n",
      "root      1188   413  0 21:30 ?        00:00:00 sshd: vagrant [priv]\n",
      "vagrant   1190     1  0 21:30 ?        00:00:00 /lib/systemd/systemd --user\n",
      "vagrant   1191  1190  0 21:30 ?        00:00:00 (sd-pam)\n",
      "vagrant   1197  1188  0 21:30 ?        00:00:00 sshd: vagrant@pts/0\n",
      "vagrant   1198  1197  0 21:30 pts/0    00:00:00 -bash\n",
      "vagrant   2090  1198  0 21:37 pts/0    00:00:02 /usr/bin/python /home/vagrant/.l\n",
      "vagrant   2111  2090  0 21:38 ?        00:00:00 /usr/bin/python -m bash_kernel -\n",
      "vagrant   2121  2111  0 21:38 pts/1    00:00:00 /bin/bash --rcfile /home/vagrant\n",
      "root      2216     2  0 21:51 ?        00:00:00 [kworker/0:2]\n",
      "root      2226     2  0 21:56 ?        00:00:00 [kworker/0:0]\n",
      "vagrant   2229  2121  0 21:57 pts/1    00:00:00 ps -ef\n"
     ]
    }
   ],
   "source": [
    "ps -ef"
   ]
  },
  {
   "cell_type": "markdown",
   "metadata": {},
   "source": [
    "# Estructura de Directorios Unix"
   ]
  },
  {
   "cell_type": "markdown",
   "metadata": {},
   "source": [
    "Directorio        Descripción\n",
    "------------------------------------------------------------------\n",
    "/bin/\t\tComandos/programas binarios esenciales (cp, mv, ls, rm, etc.).\n",
    "/boot/\t\tFicheros utilizados durante el arranque del sistema (núcleo y discos RAM)\n",
    "/dev/\t\tDispositivos esenciales, discos duros, terminales, sonido,\n",
    "\t\tvideo, lectores dvd/cd, etc\n",
    "\n",
    "/etc/\t\tFicheros de configuración utilizados en todo el sistema y que\n",
    "\t\tson específicos del ordenador\n",
    "\n",
    "/etc/opt/\tFicheros de configuración utilizados por programas alojados dentro\n",
    "\t\tde /opt/\n",
    "\n",
    "/etc/X11/\tFicheros de configuración para el sistema X Window (Opcional)\n",
    "/etc/sgml/\tFicheros de configuración para SGML (Opcional)\n",
    "/etc/xml/\tFicheros de configuración para XML (Opcional)\n",
    "\n",
    "/home/\t\tDirectorios de inicios de los usuarios (Opcional)\n",
    "/lib/\t\tBibliotecas compartidas esenciales para los binarios de /bin/, /sbin/ y\n",
    "\t\tel núcleo del sistema.\n",
    "\n",
    "/mnt/\t\tSistemas de ficheros montados temporalmente.\n",
    "/media/\t\tPuntos de montaje para dispositivos de medios como unidades lectoras\n",
    "\t\tde discos compactos.\n",
    "\n",
    "/opt/\t\tPaquetes de aplicaciones estáticas.\n",
    "/proc/\t\tSistema de ficheros virtual que documenta sucesos y estados del\n",
    "\t\tnúcleo. Contiene principalmente ficheros de texto.\n",
    "\n",
    "/root/\t\tDirectorio de inicio del usuario root (super-usuario) (Opcional)\n",
    "/sbin/\t\tComandos/programas binarios de administración de sistema.\n",
    "/tmp/\t\tFicheros temporales\n",
    "/srv/\t\tDatos específicos de sitio servidos por el sistema.\n",
    "\n",
    "\n",
    "/usr/\t\tJerarquía secundaria para datos compartidos de solo lectura (Unix system\n",
    "\t\tresources). Este directorio puede ser compartido por\n",
    "\t\tmúltiples ordenadores y no debe contener datos específicos del\n",
    "\t\tordenador que los comparte.\n",
    "\n",
    "/usr/bin/\tComandos/programas binarios.\n",
    "/usr/include/\tFicheros de inclusión estándar (cabeceras de cabecera utilizados\n",
    "\t\tpara desarrollo).\n",
    "\n",
    "/usr/lib/\tBibliotecas compartidas.\n",
    "/usr/share/\tDatos compartidos independientes de la arquitectura del\n",
    "\t\tsistema. Imágenes, ficheros de texto, etc.\n",
    "\n",
    "/usr/src/\tCódigos fuente (Opcional)\n",
    "/usr/X11R6/\tSistema X Window, versión 11, lanzamiento 6 (Opcional)\n",
    "/usr/local/\tJerarquía terciaria para datos compartidos de solo lectura\n",
    "\t\tespecíficos del ordenador que los comparte.\n",
    "\n",
    "/var/\t\tFicheros variables, como son logs, bases de datos, directorio raíz\n",
    "\t\tde servidores HTTP y FTP, colas de correo, ficheros temporales, etc.\n",
    "\n",
    "/var/cache/\tCache da datos de aplicaciones.\n",
    "/var/crash/\tDepósito de información referente a caidas del sistema (Opcional)\n",
    "\n",
    "/var/games/\tDatos variables de aplicaciones para juegos (Opcional)\n",
    "/var/lib/\tInformación de estado variable. Algunos servidores como MySQL y\n",
    "\t\tPostgreSQL almacenan sus bases de datos en directorios subordinados de éste.\n",
    "\n",
    "/var/lock/\tFicheros de bloqueo.\n",
    "/var/log/\tFicheros y directorios de registro del sistemas (logs).\n",
    "/var/mail/\tBuzones de correo de usuarios (Opcional)\n",
    "/var/opt/\tDatos variables de /opt/.\n",
    "/var/spool/\tColas de datos de aplicaciones.\n",
    "/var/tmp/\tFicheros temporales preservados entre reinicios.\n"
   ]
  }
 ],
 "metadata": {
  "kernelspec": {
   "display_name": "Bash",
   "language": "bash",
   "name": "bash"
  },
  "language_info": {
   "codemirror_mode": "shell",
   "file_extension": ".sh",
   "mimetype": "text/x-sh",
   "name": "bash"
  }
 },
 "nbformat": 4,
 "nbformat_minor": 2
}
