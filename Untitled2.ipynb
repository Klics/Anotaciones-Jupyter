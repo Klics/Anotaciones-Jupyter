{
 "cells": [
  {
   "cell_type": "markdown",
   "metadata": {},
   "source": [
    "# Principales Servicios\n",
    "\n",
    "- Web:\n",
    "    - http\n",
    "    - https\n",
    "    - webdav\n",
    "    - ftp\n",
    "    - ftps (SSL)\n",
    "    - sftp\n",
    "- Admon Remota:\n",
    "    - SSH\n",
    "    - TELNET\n",
    "- Red:\n",
    "    - rsync\n",
    "    - DNS\n",
    "    - DHCP\n",
    "    - MAIL\n",
    "    - SMB (windows sharing)\n",
    "    - NFS\n",
    "    - VPN\n",
    "- BDD:\n",
    "    - "
   ]
  },
  {
   "cell_type": "markdown",
   "metadata": {},
   "source": [
    "# Diferencia Servicio web y web app\n",
    "\n",
    "El servicio web tiene como fin servir a las paginas estaticas (HTML, CSS).\n",
    "Mientras que la web app trabaja con contenido dinamico ejecutando codigo de lado.(JavaScript)"
   ]
  },
  {
   "cell_type": "markdown",
   "metadata": {},
   "source": [
    "# Permisos de usuario\n",
    "\n",
    "**Permisos de lectura**\n",
    "\n",
    "Estos permisos simplemente dejan al usuario leer el archivo, sin la posibilidad de modificarlo (r = read).\n",
    "\n",
    "**Permisos de escritura**\n",
    "\n",
    "Con este permiso se puede modificar el archivo (w = write).\n",
    "\n",
    "**Permisos de ejecución**\n",
    "\n",
    "Este permiso deja al usuario ejecutar el archivo (x = eXecute).\n",
    "\n",
    "Comando **chmod** Para cambiar los permisos del archivo. **sudo chmod** (Ejecutar comando como super user).\n",
    "\n",
    "Usar **=** para establecer los permisos con combinaciones especificas y exactas.\n",
    "\n",
    "**ls -l** Para ver los permisos con los que cuenta el archivo.\n",
    "\n",
    "Comando **chgrp** Asignar grupo a archivo.\n",
    "\n",
    "**chown** Asignar dueño al archivo.\n",
    "\n",
    "## Representación octal de chmod\n",
    "\n",
    "**Valores**\n",
    "\n",
    "Lectura = 4\n",
    "\n",
    "Escritura = 2\n",
    "\n",
    "Ejecución = 1\n",
    "\n",
    "**rwx**  = 7 Escritura, Lectura, Ejecución\n",
    "\n",
    "**rw-**  = 6 Escritura, Lectura\n",
    "\n",
    "**r-x**  = 5 Lectura, Ejecución\n",
    "\n",
    "**r--**  = 4 Lectura\n",
    "\n",
    "**-wx**  = 3 Escritura, Ejecución\n",
    "\n",
    "**-w-**  = 2 Escritura\n",
    "\n",
    "**--x**  = 1 Ejecución\n",
    "\n",
    "**---**  = 0 Sin permisos"
   ]
  }
 ],
 "metadata": {
  "kernelspec": {
   "display_name": "Bash",
   "language": "bash",
   "name": "bash"
  },
  "language_info": {
   "codemirror_mode": "shell",
   "file_extension": ".sh",
   "mimetype": "text/x-sh",
   "name": "bash"
  }
 },
 "nbformat": 4,
 "nbformat_minor": 2
}
