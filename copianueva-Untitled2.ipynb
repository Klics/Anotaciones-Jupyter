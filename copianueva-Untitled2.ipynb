{
 "cells": [
  {
   "cell_type": "code",
   "execution_count": 1,
   "metadata": {},
   "outputs": [
    {
     "name": "stdout",
     "output_type": "stream",
     "text": [
      "total 60K\n",
      "drwxr-xr-x 10 vagrant vagrant 4.0K Oct  8 21:38 \u001b[0m\u001b[01;34m.\u001b[0m\n",
      "drwxr-xr-x  3 root    root    4.0K Feb 23  2018 \u001b[01;34m..\u001b[0m\n",
      "-rw-------  1 vagrant vagrant   26 Apr 22 14:29 .bash_history\n",
      "-rw-r--r--  1 vagrant vagrant  220 Feb 23  2018 .bash_logout\n",
      "-rw-r--r--  1 vagrant vagrant 3.7K Apr 22 14:20 .bashrc\n",
      "drwx------  3 vagrant vagrant 4.0K Apr 22 14:28 \u001b[01;34m.cache\u001b[0m\n",
      "drwxr-xr-x  2 vagrant vagrant 4.0K Oct  8 21:38 \u001b[01;34m.ipynb_checkpoints\u001b[0m\n",
      "drwxr-xr-x  5 vagrant vagrant 4.0K Oct  8 21:37 \u001b[01;34m.ipython\u001b[0m\n",
      "drwx------  6 vagrant vagrant 4.0K Oct  8 21:33 \u001b[01;34m.local\u001b[0m\n",
      "drwxr-xr-x  2 vagrant vagrant 4.0K Feb 23  2018 \u001b[01;34m.nano\u001b[0m\n",
      "-rw-r--r--  1 vagrant vagrant  675 Feb 23  2018 .profile\n",
      "drwxr-xr-x 13 vagrant vagrant 4.0K Apr 22 14:20 \u001b[01;34m.pyenv\u001b[0m\n",
      "drwx------  2 vagrant vagrant 4.0K Oct  8 21:30 \u001b[01;34m.ssh\u001b[0m\n",
      "-rw-r--r--  1 vagrant vagrant  180 Feb 23  2018 .wget-hsts\n",
      "-rw-r--r--  1 vagrant vagrant   72 Oct  8 21:38 Untitled.ipynb\n",
      "drwxr-xr-x  1 vagrant vagrant  768 Oct  8 21:30 \u001b[01;34mproyectos\u001b[0m\n"
     ]
    }
   ],
   "source": [
    "ls -alh"
   ]
  },
  {
   "cell_type": "markdown",
   "metadata": {},
   "source": [
    "El parametro **-l** nos muestra en una lista los archivos y añade información del archivo o directorio mostrado (permisos, a quien pertenece y grupo al que pertenece y grupo al que pertenece, tamaño en disco, fecha de creación o modificación.\n",
    "\n",
    "NOTA: Podemos diferenciar entre un archivo y directorio por la inicial mostrada (**drwxr-xr-x** directorio **-rw-r--r--** archivo).\n",
    "\n",
    "El parametro **-h** nos muestra en un formato mas amigable *human readable* el tamaño de los archivos."
   ]
  },
  {
   "cell_type": "markdown",
   "metadata": {},
   "source": [
    "# Comandos basicos de Linux\n",
    "\n",
    "Aqui vamos a documentar algunos comandos basicos de linux.\n",
    "\n",
    "comando **ls**\n",
    "\n",
    "Nos muestra en pantalla un listado de archivos del directorio donde estemos posicionados o bien recibe un parametro de la ruta a listar."
   ]
  },
  {
   "cell_type": "code",
   "execution_count": 3,
   "metadata": {},
   "outputs": [
    {
     "name": "stdout",
     "output_type": "stream",
     "text": [
      "Untitled.ipynb  \u001b[0m\u001b[01;34mproyectos\u001b[0m\n"
     ]
    }
   ],
   "source": [
    "ls"
   ]
  },
  {
   "cell_type": "code",
   "execution_count": 4,
   "metadata": {},
   "outputs": [
    {
     "name": "stdout",
     "output_type": "stream",
     "text": [
      "\u001b[0m\u001b[01;34m.\u001b[0m              .bashrc             \u001b[01;34m.local\u001b[0m    \u001b[01;34m.ssh\u001b[0m\n",
      "\u001b[01;34m..\u001b[0m             \u001b[01;34m.cache\u001b[0m              \u001b[01;34m.nano\u001b[0m     .wget-hsts\n",
      ".bash_history  \u001b[01;34m.ipynb_checkpoints\u001b[0m  .profile  Untitled.ipynb\n",
      ".bash_logout   \u001b[01;34m.ipython\u001b[0m            \u001b[01;34m.pyenv\u001b[0m    \u001b[01;34mproyectos\u001b[0m\n"
     ]
    }
   ],
   "source": [
    "ls -a /home/vagrant"
   ]
  },
  {
   "cell_type": "markdown",
   "metadata": {},
   "source": [
    "El parametro **-a** muestra todos los archivos (ocultos y no ocultos) este parametro se puede mezclar con otros parametros."
   ]
  },
  {
   "cell_type": "markdown",
   "metadata": {},
   "source": [
    "# Copia archivos y directorios\n",
    "\n",
    "Para copiar archivos y directorios en linux podemos usar el comando **cp**.\n",
    "\n",
    "El primer parametro es el nombre de archivo o directorio de origen, y el segundo parametro es el archivo o ruta donde se creara la copia de este.\n"
   ]
  },
  {
   "cell_type": "code",
   "execution_count": 5,
   "metadata": {},
   "outputs": [
    {
     "name": "stdout",
     "output_type": "stream",
     "text": [
      "Untitled.ipynb  \u001b[0m\u001b[01;34mproyectos\u001b[0m\n"
     ]
    }
   ],
   "source": [
    "ls"
   ]
  },
  {
   "cell_type": "code",
   "execution_count": null,
   "metadata": {},
   "outputs": [],
   "source": [
    "cp Untitled.ipynb copia-u"
   ]
  }
 ],
 "metadata": {
  "kernelspec": {
   "display_name": "Bash",
   "language": "bash",
   "name": "bash"
  },
  "language_info": {
   "codemirror_mode": "shell",
   "file_extension": ".sh",
   "mimetype": "text/x-sh",
   "name": "bash"
  }
 },
 "nbformat": 4,
 "nbformat_minor": 2
}
